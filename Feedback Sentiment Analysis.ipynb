{
 "cells": [
  {
   "cell_type": "markdown",
   "metadata": {},
   "source": [
    "# Naive Bayes Models for Sentiment Analysis\n",
    "\n",
    "Using the sentiment labelled sentences dataset ('From Group to Individual Labels using Deep Features', Kotzias et. al,. KDD 2015), I will be testing the accuracy of a Naive Bayes classifier on the imdb reviews and looking at the transferability to amazon reviews."
   ]
  },
  {
   "cell_type": "code",
   "execution_count": 1,
   "metadata": {},
   "outputs": [],
   "source": [
    "import numpy as np\n",
    "import pandas as pd\n",
    "import matplotlib.pyplot as plt\n",
    "import scipy\n",
    "import sklearn\n",
    "import seaborn as sns\n",
    "%matplotlib inline"
   ]
  },
  {
   "cell_type": "code",
   "execution_count": 2,
   "metadata": {},
   "outputs": [
    {
     "data": {
      "text/html": [
       "<div>\n",
       "<style scoped>\n",
       "    .dataframe tbody tr th:only-of-type {\n",
       "        vertical-align: middle;\n",
       "    }\n",
       "\n",
       "    .dataframe tbody tr th {\n",
       "        vertical-align: top;\n",
       "    }\n",
       "\n",
       "    .dataframe thead th {\n",
       "        text-align: right;\n",
       "    }\n",
       "</style>\n",
       "<table border=\"1\" class=\"dataframe\">\n",
       "  <thead>\n",
       "    <tr style=\"text-align: right;\">\n",
       "      <th></th>\n",
       "      <th>sentence</th>\n",
       "      <th>score</th>\n",
       "    </tr>\n",
       "  </thead>\n",
       "  <tbody>\n",
       "    <tr>\n",
       "      <th>0</th>\n",
       "      <td>A very, very, very slow-moving, aimless movie ...</td>\n",
       "      <td>0</td>\n",
       "    </tr>\n",
       "    <tr>\n",
       "      <th>1</th>\n",
       "      <td>Not sure who was more lost - the flat characte...</td>\n",
       "      <td>0</td>\n",
       "    </tr>\n",
       "    <tr>\n",
       "      <th>2</th>\n",
       "      <td>Attempting artiness with black &amp; white and cle...</td>\n",
       "      <td>0</td>\n",
       "    </tr>\n",
       "    <tr>\n",
       "      <th>3</th>\n",
       "      <td>Very little music or anything to speak of.</td>\n",
       "      <td>0</td>\n",
       "    </tr>\n",
       "    <tr>\n",
       "      <th>4</th>\n",
       "      <td>The best scene in the movie was when Gerardo i...</td>\n",
       "      <td>1</td>\n",
       "    </tr>\n",
       "  </tbody>\n",
       "</table>\n",
       "</div>"
      ],
      "text/plain": [
       "                                            sentence  score\n",
       "0  A very, very, very slow-moving, aimless movie ...      0\n",
       "1  Not sure who was more lost - the flat characte...      0\n",
       "2  Attempting artiness with black & white and cle...      0\n",
       "3       Very little music or anything to speak of.        0\n",
       "4  The best scene in the movie was when Gerardo i...      1"
      ]
     },
     "execution_count": 2,
     "metadata": {},
     "output_type": "execute_result"
    }
   ],
   "source": [
    "# Import training dataset\n",
    "df = pd.read_csv('imdb_labelled.txt', names=['sentence', 'score'], delimiter='\\t')\n",
    "df.head()"
   ]
  },
  {
   "cell_type": "code",
   "execution_count": 3,
   "metadata": {},
   "outputs": [
    {
     "data": {
      "text/plain": [
       "85"
      ]
     },
     "execution_count": 3,
     "metadata": {},
     "output_type": "execute_result"
    }
   ],
   "source": [
    "# Create list of words to use as features for sentiment analysis\n",
    "good_words = ['hilarious', 'entertain', 'heart-warming', 'touching', 'good', 'great', 'excellent', 'amazing', 'incredible',\n",
    "              'best', 'funny', 'funniest', 'perfect', 'impress', 'enjoy', 'solid', 'favorite', 'favourite', 'powerful',\n",
    "             'moving', 'nice', 'joy', 'vibrant', 'ground-breaking', 'thought-provoking', 'exceptional', 'masterpiece', 'creative',\n",
    "             'interesting', 'fantastic', 'pleasing', 'pleasant', 'thoughtful', 'wonderful', 'dynamic', 'triumph', 'beautiful',\n",
    "             'stunning', 'marvelous', 'brilliant', 'original', 'breathtaking']\n",
    "\n",
    "# added leading spaces for words that could be contained within other words, dropped suffixes to catch extras * wast: waste, wasteful, wasting\n",
    "bad_words = ['bad', 'horrible', 'horrendous', 'terrible', 'boring', 'bored', 'stupid', 'dumb', 'pathetic', 'flat', 'slow',\n",
    "            'worst', 'lackluster', 'awful', 'contrived', 'derivative', 'mindless', 'shame', 'unlikeable', 'predictable', 'cring',\n",
    "            'hate', 'detest', 'loathe', 'wrong', ' lack', 'dull', 'lost', 'sleep', 'slept', 'mediocre', ' wast', ' lose', 'confus',\n",
    "            'horrid', 'weak', 'disappoint', 'poor', 'trash', ' crap', 'garbage', 'cliche', 'rotten']\n",
    "\n",
    "words = good_words\n",
    "words.extend(bad_words)\n",
    "len(words)"
   ]
  },
  {
   "cell_type": "code",
   "execution_count": 4,
   "metadata": {},
   "outputs": [
    {
     "data": {
      "text/html": [
       "<div>\n",
       "<style scoped>\n",
       "    .dataframe tbody tr th:only-of-type {\n",
       "        vertical-align: middle;\n",
       "    }\n",
       "\n",
       "    .dataframe tbody tr th {\n",
       "        vertical-align: top;\n",
       "    }\n",
       "\n",
       "    .dataframe thead th {\n",
       "        text-align: right;\n",
       "    }\n",
       "</style>\n",
       "<table border=\"1\" class=\"dataframe\">\n",
       "  <thead>\n",
       "    <tr style=\"text-align: right;\">\n",
       "      <th></th>\n",
       "      <th>sentence</th>\n",
       "      <th>score</th>\n",
       "      <th>hilarious</th>\n",
       "      <th>entertain</th>\n",
       "      <th>heart-warming</th>\n",
       "      <th>touching</th>\n",
       "      <th>good</th>\n",
       "      <th>great</th>\n",
       "      <th>excellent</th>\n",
       "      <th>amazing</th>\n",
       "      <th>...</th>\n",
       "      <th>confus</th>\n",
       "      <th>horrid</th>\n",
       "      <th>weak</th>\n",
       "      <th>disappoint</th>\n",
       "      <th>poor</th>\n",
       "      <th>trash</th>\n",
       "      <th>crap</th>\n",
       "      <th>garbage</th>\n",
       "      <th>cliche</th>\n",
       "      <th>rotten</th>\n",
       "    </tr>\n",
       "  </thead>\n",
       "  <tbody>\n",
       "    <tr>\n",
       "      <th>0</th>\n",
       "      <td>A very, very, very slow-moving, aimless movie ...</td>\n",
       "      <td>0</td>\n",
       "      <td>False</td>\n",
       "      <td>False</td>\n",
       "      <td>False</td>\n",
       "      <td>False</td>\n",
       "      <td>False</td>\n",
       "      <td>False</td>\n",
       "      <td>False</td>\n",
       "      <td>False</td>\n",
       "      <td>...</td>\n",
       "      <td>False</td>\n",
       "      <td>False</td>\n",
       "      <td>False</td>\n",
       "      <td>False</td>\n",
       "      <td>False</td>\n",
       "      <td>False</td>\n",
       "      <td>False</td>\n",
       "      <td>False</td>\n",
       "      <td>False</td>\n",
       "      <td>False</td>\n",
       "    </tr>\n",
       "    <tr>\n",
       "      <th>1</th>\n",
       "      <td>Not sure who was more lost - the flat characte...</td>\n",
       "      <td>0</td>\n",
       "      <td>False</td>\n",
       "      <td>False</td>\n",
       "      <td>False</td>\n",
       "      <td>False</td>\n",
       "      <td>False</td>\n",
       "      <td>False</td>\n",
       "      <td>False</td>\n",
       "      <td>False</td>\n",
       "      <td>...</td>\n",
       "      <td>False</td>\n",
       "      <td>False</td>\n",
       "      <td>False</td>\n",
       "      <td>False</td>\n",
       "      <td>False</td>\n",
       "      <td>False</td>\n",
       "      <td>False</td>\n",
       "      <td>False</td>\n",
       "      <td>False</td>\n",
       "      <td>False</td>\n",
       "    </tr>\n",
       "    <tr>\n",
       "      <th>2</th>\n",
       "      <td>Attempting artiness with black &amp; white and cle...</td>\n",
       "      <td>0</td>\n",
       "      <td>False</td>\n",
       "      <td>False</td>\n",
       "      <td>False</td>\n",
       "      <td>False</td>\n",
       "      <td>False</td>\n",
       "      <td>False</td>\n",
       "      <td>False</td>\n",
       "      <td>False</td>\n",
       "      <td>...</td>\n",
       "      <td>False</td>\n",
       "      <td>False</td>\n",
       "      <td>False</td>\n",
       "      <td>True</td>\n",
       "      <td>True</td>\n",
       "      <td>False</td>\n",
       "      <td>False</td>\n",
       "      <td>False</td>\n",
       "      <td>False</td>\n",
       "      <td>False</td>\n",
       "    </tr>\n",
       "    <tr>\n",
       "      <th>3</th>\n",
       "      <td>Very little music or anything to speak of.</td>\n",
       "      <td>0</td>\n",
       "      <td>False</td>\n",
       "      <td>False</td>\n",
       "      <td>False</td>\n",
       "      <td>False</td>\n",
       "      <td>False</td>\n",
       "      <td>False</td>\n",
       "      <td>False</td>\n",
       "      <td>False</td>\n",
       "      <td>...</td>\n",
       "      <td>False</td>\n",
       "      <td>False</td>\n",
       "      <td>False</td>\n",
       "      <td>False</td>\n",
       "      <td>False</td>\n",
       "      <td>False</td>\n",
       "      <td>False</td>\n",
       "      <td>False</td>\n",
       "      <td>False</td>\n",
       "      <td>False</td>\n",
       "    </tr>\n",
       "    <tr>\n",
       "      <th>4</th>\n",
       "      <td>The best scene in the movie was when Gerardo i...</td>\n",
       "      <td>1</td>\n",
       "      <td>False</td>\n",
       "      <td>False</td>\n",
       "      <td>False</td>\n",
       "      <td>False</td>\n",
       "      <td>False</td>\n",
       "      <td>False</td>\n",
       "      <td>False</td>\n",
       "      <td>False</td>\n",
       "      <td>...</td>\n",
       "      <td>False</td>\n",
       "      <td>False</td>\n",
       "      <td>False</td>\n",
       "      <td>False</td>\n",
       "      <td>False</td>\n",
       "      <td>False</td>\n",
       "      <td>False</td>\n",
       "      <td>False</td>\n",
       "      <td>False</td>\n",
       "      <td>False</td>\n",
       "    </tr>\n",
       "  </tbody>\n",
       "</table>\n",
       "<p>5 rows × 87 columns</p>\n",
       "</div>"
      ],
      "text/plain": [
       "                                            sentence  score  hilarious  \\\n",
       "0  A very, very, very slow-moving, aimless movie ...      0      False   \n",
       "1  Not sure who was more lost - the flat characte...      0      False   \n",
       "2  Attempting artiness with black & white and cle...      0      False   \n",
       "3       Very little music or anything to speak of.        0      False   \n",
       "4  The best scene in the movie was when Gerardo i...      1      False   \n",
       "\n",
       "   entertain  heart-warming  touching   good  great  excellent  amazing  ...  \\\n",
       "0      False          False     False  False  False      False    False  ...   \n",
       "1      False          False     False  False  False      False    False  ...   \n",
       "2      False          False     False  False  False      False    False  ...   \n",
       "3      False          False     False  False  False      False    False  ...   \n",
       "4      False          False     False  False  False      False    False  ...   \n",
       "\n",
       "   confus  horrid   weak  disappoint   poor  trash   crap  garbage  cliche  \\\n",
       "0   False   False  False       False  False  False  False    False   False   \n",
       "1   False   False  False       False  False  False  False    False   False   \n",
       "2   False   False  False        True   True  False  False    False   False   \n",
       "3   False   False  False       False  False  False  False    False   False   \n",
       "4   False   False  False       False  False  False  False    False   False   \n",
       "\n",
       "   rotten  \n",
       "0   False  \n",
       "1   False  \n",
       "2   False  \n",
       "3   False  \n",
       "4   False  \n",
       "\n",
       "[5 rows x 87 columns]"
      ]
     },
     "execution_count": 4,
     "metadata": {},
     "output_type": "execute_result"
    }
   ],
   "source": [
    "# Encode word vector features\n",
    "for word in words:\n",
    "    df[str(word)] = df['sentence'].str.contains(word, case=False)\n",
    "df.head()"
   ]
  },
  {
   "cell_type": "code",
   "execution_count": 5,
   "metadata": {},
   "outputs": [
    {
     "data": {
      "image/png": "[encoded data removed]",
      "text/plain": [
       "<Figure size 1440x1440 with 2 Axes>"
      ]
     },
     "metadata": {
      "needs_background": "light"
     },
     "output_type": "display_data"
    }
   ],
   "source": [
    "# Check for correlation because of the assumption of independence in Naive Bayes\n",
    "plt.figure(figsize=(20,20))\n",
    "sns.heatmap(df.corr())\n",
    "plt.show()"
   ]
  },
  {
   "cell_type": "code",
   "execution_count": 6,
   "metadata": {},
   "outputs": [
    {
     "name": "stdout",
     "output_type": "stream",
     "text": [
      "Wrong: 209 / 748\n"
     ]
    }
   ],
   "source": [
    "# Model the data with a Bernoulli Naive Bayes\n",
    "from sklearn.naive_bayes import BernoulliNB\n",
    "\n",
    "bnb = BernoulliNB()\n",
    "data = df[words]\n",
    "target = df['score']\n",
    "\n",
    "bnb.fit(data, target)\n",
    "\n",
    "prediction = bnb.predict(data)\n",
    "\n",
    "print('Wrong: {} / {}'.format((target != prediction).sum(), len(df)))"
   ]
  },
  {
   "cell_type": "code",
   "execution_count": 7,
   "metadata": {},
   "outputs": [
    {
     "data": {
      "text/html": [
       "<div>\n",
       "<style scoped>\n",
       "    .dataframe tbody tr th:only-of-type {\n",
       "        vertical-align: middle;\n",
       "    }\n",
       "\n",
       "    .dataframe tbody tr th {\n",
       "        vertical-align: top;\n",
       "    }\n",
       "\n",
       "    .dataframe thead th {\n",
       "        text-align: right;\n",
       "    }\n",
       "</style>\n",
       "<table border=\"1\" class=\"dataframe\">\n",
       "  <thead>\n",
       "    <tr style=\"text-align: right;\">\n",
       "      <th></th>\n",
       "      <th>sentence</th>\n",
       "      <th>score</th>\n",
       "    </tr>\n",
       "  </thead>\n",
       "  <tbody>\n",
       "    <tr>\n",
       "      <th>0</th>\n",
       "      <td>So there is no way for me to plug it in here i...</td>\n",
       "      <td>0</td>\n",
       "    </tr>\n",
       "    <tr>\n",
       "      <th>1</th>\n",
       "      <td>Good case, Excellent value.</td>\n",
       "      <td>1</td>\n",
       "    </tr>\n",
       "    <tr>\n",
       "      <th>2</th>\n",
       "      <td>Great for the jawbone.</td>\n",
       "      <td>1</td>\n",
       "    </tr>\n",
       "    <tr>\n",
       "      <th>3</th>\n",
       "      <td>Tied to charger for conversations lasting more...</td>\n",
       "      <td>0</td>\n",
       "    </tr>\n",
       "    <tr>\n",
       "      <th>4</th>\n",
       "      <td>The mic is great.</td>\n",
       "      <td>1</td>\n",
       "    </tr>\n",
       "  </tbody>\n",
       "</table>\n",
       "</div>"
      ],
      "text/plain": [
       "                                            sentence  score\n",
       "0  So there is no way for me to plug it in here i...      0\n",
       "1                        Good case, Excellent value.      1\n",
       "2                             Great for the jawbone.      1\n",
       "3  Tied to charger for conversations lasting more...      0\n",
       "4                                  The mic is great.      1"
      ]
     },
     "execution_count": 7,
     "metadata": {},
     "output_type": "execute_result"
    }
   ],
   "source": [
    "# Import the test data\n",
    "amazon_df = pd.read_csv('amazon_cells_labelled.txt', names = ['sentence', 'score'], delimiter='\\t')\n",
    "amazon_df.head()"
   ]
  },
  {
   "cell_type": "code",
   "execution_count": 8,
   "metadata": {},
   "outputs": [],
   "source": [
    "# Encode word vector features\n",
    "for word in words:\n",
    "    amazon_df[str(word)] = amazon_df['sentence'].str.contains(word, case=False)"
   ]
  },
  {
   "cell_type": "code",
   "execution_count": 9,
   "metadata": {},
   "outputs": [
    {
     "name": "stdout",
     "output_type": "stream",
     "text": [
      "Wrong: 381 / 1000\n"
     ]
    }
   ],
   "source": [
    "# Check the ability of the model to transfer to other data sets\n",
    "a_data = amazon_df[words]\n",
    "a_target = amazon_df['score']\n",
    "a_pred = bnb.predict(a_data)\n",
    "\n",
    "print('Wrong: {} / {}'.format((a_target != a_pred).sum(), len(amazon_df)))"
   ]
  },
  {
   "cell_type": "markdown",
   "metadata": {},
   "source": [
    "## Features and Analysis\n",
    "\n",
    "I created two lists of keywords after browsing some reviews on the site Rotten Tomatoes. Some of the words were fairly specific to movies or creative works, so I wasn't sure how well they would transfer to Amazon reviews. The accuracy only dropped by 10% though. \n",
    "\n",
    "### Shortcomings\n",
    "\n",
    "The assumption that all features are independent of one another could lead to false positives and false negatives. No context around the keywords means that the classifier misses words that negate the keyword. \"This product is not good!\" would be classified as a positive review, though the preceding words means it is the opposite of good. There are probably other keywords syntactic markers of sentiment I could have added to boost the performance of the model, but it did relatively well with little work and no context."
   ]
  },
  {
   "cell_type": "markdown",
   "metadata": {},
   "source": [
    "## Evaluating Classifier Performance\n",
    "\n",
    "Now that we have a classifier up and running, it is worth evaluating more critically how it is doing and to determine how we can improve performance."
   ]
  },
  {
   "cell_type": "code",
   "execution_count": 10,
   "metadata": {},
   "outputs": [
    {
     "name": "stdout",
     "output_type": "stream",
     "text": [
      "CV Set 1 Type I Error: 0.018868 Type II Error: 0.414634\n",
      "CV Set 2 Type I Error: 0.023256 Type II Error: 0.529412\n",
      "CV Set 3 Type I Error: 0.039216 Type II Error: 0.558140\n",
      "CV Set 4 Type I Error: 0.020408 Type II Error: 0.422222\n",
      "CV Set 5 Type I Error: 0.035088 Type II Error: 0.621622\n",
      "CV Set 6 Type I Error: 0.000000 Type II Error: 0.600000\n",
      "CV Set 7 Type I Error: 0.000000 Type II Error: 0.541667\n",
      "CV Set 8 Type I Error: 0.069767 Type II Error: 0.568627\n"
     ]
    }
   ],
   "source": [
    "# Cross-validation and type I, type II errors\n",
    "from sklearn.metrics import confusion_matrix\n",
    "import math\n",
    "\n",
    "cv = 8\n",
    "n = math.ceil(len(target)/cv)\n",
    "for i in range(cv):\n",
    "    indices = np.random.randint(len(target), size=n).tolist()\n",
    "    bnb.fit(data.iloc[indices], target.iloc[indices])\n",
    "    cm = confusion_matrix(target.iloc[indices], prediction[indices])\n",
    "    print('CV Set {} Type I Error: {:2f} Type II Error: {:2f}'.format(i+1, \n",
    "                                                               (cm[1][0]/sum(cm[1])),\n",
    "                                                               (cm[0][1]/sum(cm[0]))))\n"
   ]
  },
  {
   "cell_type": "code",
   "execution_count": 11,
   "metadata": {},
   "outputs": [
    {
     "name": "stdout",
     "output_type": "stream",
     "text": [
      "Amazon Set Type I Error: 0.010000 Type II Error: 0.752000\n"
     ]
    }
   ],
   "source": [
    "# Type I and Type II errors on Amazon set\n",
    "cm = confusion_matrix(a_target, a_pred)\n",
    "print('Amazon Set Type I Error: {:2f} Type II Error: {:2f}'.format((cm[1][0]/sum(cm[1])),\n",
    "                                                               (cm[0][1]/sum(cm[0]))))\n"
   ]
  },
  {
   "cell_type": "markdown",
   "metadata": {},
   "source": [
    "## Future Iterations\n",
    "\n",
    "It looks like the model above doesn't seem to be overfitting, but it does have an outsized type II : type I error ratio. For future iterations, I am going to remove words from my feature set that were not found in the data. I am also going to try just the positive words and just the negative words to see if focusing on one sentiment increases predictions. Finally, I would like to try using counts of the words instead of just a boolean response to the word's presence."
   ]
  },
  {
   "cell_type": "code",
   "execution_count": 12,
   "metadata": {},
   "outputs": [],
   "source": [
    "# Remove words that were not found in the data from the features\n",
    "not_there = ['lose', 'cring', 'lackluster', 'slept', 'detest', 'loathe', 'unlikeable', 'mindless',\n",
    "          'breathtaking', 'marvelous', 'thoughful', 'dynamic', 'vibrant', 'heart-warming']\n",
    "words = [word for word in words if word not in not_there]\n",
    "good_words = [word for word in good_words if word  not in not_there]\n",
    "bad_words = [word for word in bad_words if word not in not_there]"
   ]
  },
  {
   "cell_type": "code",
   "execution_count": 13,
   "metadata": {},
   "outputs": [
    {
     "name": "stdout",
     "output_type": "stream",
     "text": [
      "IMDB Set Type I Error: 0.028497 Type II Error: 0.546961\n",
      "Amazon Set Type I Error: 0.010000 Type II Error: 0.752000\n"
     ]
    }
   ],
   "source": [
    "# Model the data on just the positive words\n",
    "bnba = BernoulliNB()\n",
    "data = df[good_words]\n",
    "target = df['score']\n",
    "\n",
    "bnba.fit(data, target)\n",
    "\n",
    "prediction = bnba.predict(data)\n",
    "\n",
    "cm = confusion_matrix(target, prediction)\n",
    "print('IMDB Set Type I Error: {:2f} Type II Error: {:2f}'.format((cm[1][0]/sum(cm[1])),\n",
    "                                                               (cm[0][1]/sum(cm[0]))))\n",
    "# Test the model on the Amazon data\n",
    "a_data = amazon_df[good_words]\n",
    "a_target = amazon_df['score']\n",
    "a_pred = bnba.predict(a_data)\n",
    "\n",
    "cm = confusion_matrix(a_target, a_pred)\n",
    "print('Amazon Set Type I Error: {:2f} Type II Error: {:2f}'.format((cm[1][0]/sum(cm[1])),\n",
    "                                                               (cm[0][1]/sum(cm[0]))))"
   ]
  },
  {
   "cell_type": "markdown",
   "metadata": {},
   "source": [
    "### Evaluating Positive Sentiment Model\n",
    "The model using on the words that convey only positive sentiment did not make imporvement or perform worse than the original model."
   ]
  },
  {
   "cell_type": "code",
   "execution_count": 14,
   "metadata": {},
   "outputs": [
    {
     "name": "stdout",
     "output_type": "stream",
     "text": [
      "IMDB Set Type I Error: 0.028497 Type II Error: 0.574586\n",
      "Amazon Set Type I Error: 0.006000 Type II Error: 0.770000\n"
     ]
    }
   ],
   "source": [
    "# Model the data just on the negative words\n",
    "bnbb = BernoulliNB()\n",
    "data = df[bad_words]\n",
    "target = df['score']\n",
    "\n",
    "bnbb.fit(data, target)\n",
    "\n",
    "prediction = bnbb.predict(data)\n",
    "\n",
    "cm = confusion_matrix(target, prediction)\n",
    "print('IMDB Set Type I Error: {:2f} Type II Error: {:2f}'.format((cm[1][0]/sum(cm[1])),\n",
    "                                                               (cm[0][1]/sum(cm[0]))))\n",
    "# Test the model on the Amazon data\n",
    "a_data = amazon_df[bad_words]\n",
    "a_target = amazon_df['score']\n",
    "a_pred = bnbb.predict(a_data)\n",
    "\n",
    "cm = confusion_matrix(a_target, a_pred)\n",
    "print('Amazon Set Type I Error: {:2f} Type II Error: {:2f}'.format((cm[1][0]/sum(cm[1])),\n",
    "                                                               (cm[0][1]/sum(cm[0]))))"
   ]
  },
  {
   "cell_type": "markdown",
   "metadata": {},
   "source": [
    "### Evaluating Negative Sentiment Model\n",
    "The model using on the words that convey only negative sentiment performed worse than the original model."
   ]
  },
  {
   "cell_type": "code",
   "execution_count": 15,
   "metadata": {},
   "outputs": [
    {
     "name": "stdout",
     "output_type": "stream",
     "text": [
      "IMDB Set Type I Error: 0.041451 Type II Error: 0.022099\n",
      "Amazon Set Type I Error: 0.358000 Type II Error: 0.258000\n"
     ]
    }
   ],
   "source": [
    "from sklearn.feature_extraction.text import CountVectorizer\n",
    "from sklearn.naive_bayes import MultinomialNB\n",
    "# Create counts for each of the words in the data, then model the data\n",
    "count_vect = CountVectorizer()\n",
    "X = count_vect.fit_transform(df.sentence)\n",
    "\n",
    "mnb = MultinomialNB()\n",
    "\n",
    "mnb.fit(X, target)\n",
    "\n",
    "pred = mnb.predict(X)\n",
    "cm = confusion_matrix(target, pred)\n",
    "print('IMDB Set Type I Error: {:2f} Type II Error: {:2f}'.format((cm[1][0]/sum(cm[1])),\n",
    "                                                               (cm[0][1]/sum(cm[0]))))\n",
    "\n",
    "# Test the model on the Amazon data\n",
    "a_data = count_vect.transform(amazon_df.sentence)\n",
    "a_target = amazon_df['score']\n",
    "a_pred = mnb.predict(a_data)\n",
    "\n",
    "cm = confusion_matrix(a_target, a_pred)\n",
    "print('Amazon Set Type I Error: {:2f} Type II Error: {:2f}'.format((cm[1][0]/sum(cm[1])),\n",
    "                                                               (cm[0][1]/sum(cm[0]))))"
   ]
  },
  {
   "cell_type": "markdown",
   "metadata": {},
   "source": [
    "### Evaluating the Count Vectorized Model\n",
    "This model improved performance markedly in all areas except for type I error on the training set, which was already quite low."
   ]
  },
  {
   "cell_type": "code",
   "execution_count": 16,
   "metadata": {},
   "outputs": [
    {
     "name": "stdout",
     "output_type": "stream",
     "text": [
      "IMDB Set Type I Error: 0.005181 Type II Error: 0.000000\n",
      "Amazon Set Type I Error: 0.378000 Type II Error: 0.256000\n"
     ]
    }
   ],
   "source": [
    "# Model the data based on counts for every word and two-word pair\n",
    "c_vec = CountVectorizer(ngram_range=(1,2))\n",
    "dat = c_vec.fit_transform(df.sentence)\n",
    "\n",
    "mnba = MultinomialNB()\n",
    "\n",
    "mnba.fit(dat, target)\n",
    "\n",
    "pred1 = mnba.predict(dat)\n",
    "cm = confusion_matrix(target, pred1)\n",
    "print('IMDB Set Type I Error: {:2f} Type II Error: {:2f}'.format((cm[1][0]/sum(cm[1])),\n",
    "                                                               (cm[0][1]/sum(cm[0]))))\n",
    "# Test the model on the Amazon data\n",
    "a_data = c_vec.transform(amazon_df.sentence)\n",
    "a_target = amazon_df['score']\n",
    "a_pred = mnba.predict(a_data)\n",
    "\n",
    "cm = confusion_matrix(a_target, a_pred)\n",
    "print('Amazon Set Type I Error: {:2f} Type II Error: {:2f}'.format((cm[1][0]/sum(cm[1])),\n",
    "                                                               (cm[0][1]/sum(cm[0]))))"
   ]
  },
  {
   "cell_type": "markdown",
   "metadata": {},
   "source": [
    "### Evaluating the 1,2 n-grams Count Vectorized Model\n",
    "This model is probably beginning to overfit. The type II error on the training data is reduced to 0 and the type o I error is negligible. Meanwhile the error on the test set crept up marginally. I predict that including any higher order n-grams would increase the overfitting of the model. One way to reduce the overfitting would be to cross-validate with randomly selected samples from the training set."
   ]
  },
  {
   "cell_type": "markdown",
   "metadata": {},
   "source": [
    "## Do any of the models overfit?\n",
    "Yes. I believe the last model overfits on the data because it is a small dataset and the model is learning on every word and two-word pair. I believe this could be avoided with cross-validation, dropout, skip-grams, and/or a larger dataset.\n",
    "\n",
    "## Which models seem to perform best? Why?\n",
    "The model with the count vectorizer seems to perform best. This is likely because it takes all the words into account in the dataset and the frequency with which they occur. The model looking for positive and negative sentiment words did not have a frequency feature.\n",
    "\n",
    "## Which features seemed to be most impactful to performance?\n",
    "Positive words seemed to marginally outperform negative words as features in the boolean models. Having counts of the frequency at which words occurred drastically improved the performance and the transferability of the models, though."
   ]
  },
  {
   "cell_type": "code",
   "execution_count": null,
   "metadata": {},
   "outputs": [],
   "source": []
  }
 ],
 "metadata": {
  "kernelspec": {
   "display_name": "Python 3",
   "language": "python",
   "name": "python3"
  },
  "language_info": {
   "codemirror_mode": {
    "name": "ipython",
    "version": 3
   },
   "file_extension": ".py",
   "mimetype": "text/x-python",
   "name": "python",
   "nbconvert_exporter": "python",
   "pygments_lexer": "ipython3",
   "version": "3.7.0"
  }
 },
 "nbformat": 4,
 "nbformat_minor": 2
}

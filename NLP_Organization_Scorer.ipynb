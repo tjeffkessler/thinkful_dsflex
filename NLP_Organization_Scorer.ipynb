{
  "nbformat": 4,
  "nbformat_minor": 0,
  "metadata": {
    "colab": {
      "name": "NLP Organization Scorer.ipynb",
      "version": "0.3.2",
      "provenance": [],
      "collapsed_sections": []
    },
    "language_info": {
      "codemirror_mode": {
        "name": "ipython",
        "version": 3
      },
      "file_extension": ".py",
      "mimetype": "text/x-python",
      "name": "python",
      "nbconvert_exporter": "python",
      "pygments_lexer": "ipython3",
      "version": "3.6.8"
    },
    "kernelspec": {
      "name": "python3",
      "display_name": "Python 3"
    }
  },
  "cells": [
    {
      "cell_type": "markdown",
      "metadata": {
        "id": "mGXI745KCCba",
        "colab_type": "text"
      },
      "source": [
        "# NLP Essay Organization Scorer\n",
        "\n",
        "This project seeks to use NLP tools on a set of middle and high school essays to classify them based on their level of organization. The data was provided in a Kaggle competition by the Hewlett Foundation seven years ago. The essays were hand-graded by more than one rater for standardized testing. I will be using spacy to tokenize the essays of interest and clustering and supervised learning models to attempt to predict their organization scores."
      ]
    },
    {
      "cell_type": "code",
      "metadata": {
        "id": "0qG3XC1rNJ1O",
        "colab_type": "code",
        "outputId": "d5fdb3e8-6004-429d-c2e1-eddc26df65c1",
        "colab": {
          "base_uri": "https://localhost:8080/",
          "height": 126
        }
      },
      "source": [
        "from google.colab import drive\n",
        "\n",
        "drive.mount('/content/gdrive')"
      ],
      "execution_count": 1,
      "outputs": [
        {
          "output_type": "stream",
          "text": [
            "Go to this URL in a browser: https://accounts.google.com/o/oauth2/auth?client_id=947318989803-6bn6qk8qdgf4n4g3pfee6491hc0brc4i.apps.googleusercontent.com&redirect_uri=urn%3Aietf%3Awg%3Aoauth%3A2.0%3Aoob&scope=email%20https%3A%2F%2Fwww.googleapis.com%2Fauth%2Fdocs.test%20https%3A%2F%2Fwww.googleapis.com%2Fauth%2Fdrive%20https%3A%2F%2Fwww.googleapis.com%2Fauth%2Fdrive.photos.readonly%20https%3A%2F%2Fwww.googleapis.com%2Fauth%2Fpeopleapi.readonly&response_type=code\n",
            "\n",
            "Enter your authorization code:\n",
            "··········\n",
            "Mounted at /content/gdrive\n"
          ],
          "name": "stdout"
        }
      ]
    },
    {
      "cell_type": "code",
      "metadata": {
        "id": "IfAUbUajNNTA",
        "colab_type": "code",
        "outputId": "6e27659a-70f7-46b7-95ab-5f1418934ae3",
        "colab": {
          "base_uri": "https://localhost:8080/",
          "height": 35
        }
      },
      "source": [
        "%cd '/content/gdrive/My Drive/Python'"
      ],
      "execution_count": 2,
      "outputs": [
        {
          "output_type": "stream",
          "text": [
            "/content/gdrive/My Drive/Python\n"
          ],
          "name": "stdout"
        }
      ]
    },
    {
      "cell_type": "code",
      "metadata": {
        "id": "KgfBC1xtCCbf",
        "colab_type": "code",
        "outputId": "0c4ef4fc-8279-454e-d307-13c6f4f616ec",
        "colab": {
          "base_uri": "https://localhost:8080/",
          "height": 179
        }
      },
      "source": [
        "# import all the necessary libraries\n",
        "import pandas as pd\n",
        "import numpy as np\n",
        "import matplotlib.pyplot as plt\n",
        "import seaborn as sns\n",
        "import re\n",
        "import spacy\n",
        "\n",
        "from sklearn.linear_model import LogisticRegression\n",
        "from sklearn.cluster import estimate_bandwidth\n",
        "from sklearn.cluster import KMeans, MeanShift, SpectralClustering\n",
        "from sklearn.ensemble import RandomForestClassifier, GradientBoostingClassifier\n",
        "from sklearn.model_selection import train_test_split, GridSearchCV\n",
        "\n",
        "!python -m spacy download en"
      ],
      "execution_count": 3,
      "outputs": [
        {
          "output_type": "stream",
          "text": [
            "Requirement already satisfied: en_core_web_sm==2.0.0 from https://github.com/explosion/spacy-models/releases/download/en_core_web_sm-2.0.0/en_core_web_sm-2.0.0.tar.gz#egg=en_core_web_sm==2.0.0 in /usr/local/lib/python3.6/dist-packages (2.0.0)\n",
            "\n",
            "\u001b[93m    Linking successful\u001b[0m\n",
            "    /usr/local/lib/python3.6/dist-packages/en_core_web_sm -->\n",
            "    /usr/local/lib/python3.6/dist-packages/spacy/data/en\n",
            "\n",
            "    You can now load the model via spacy.load('en')\n",
            "\n"
          ],
          "name": "stdout"
        }
      ]
    },
    {
      "cell_type": "code",
      "metadata": {
        "id": "wa299JDmCCbn",
        "colab_type": "code",
        "outputId": "59d62bdc-42c9-469b-ef00-093174e6b8e3",
        "colab": {
          "base_uri": "https://localhost:8080/",
          "height": 370
        }
      },
      "source": [
        "# Read in our first ten essays from the json file we have saved them to\n",
        "data = pd.read_csv('training_set_rel3.tsv', \n",
        "                   delimiter='\\t', \n",
        "                   encoding='latin_1', \n",
        "                   error_bad_lines=False, \n",
        "                   warn_bad_lines=True)\n",
        "\n",
        "# Determine how many essays there are by set\n",
        "data.groupby('essay_set').count()"
      ],
      "execution_count": 4,
      "outputs": [
        {
          "output_type": "execute_result",
          "data": {
            "text/html": [
              "<div>\n",
              "<style scoped>\n",
              "    .dataframe tbody tr th:only-of-type {\n",
              "        vertical-align: middle;\n",
              "    }\n",
              "\n",
              "    .dataframe tbody tr th {\n",
              "        vertical-align: top;\n",
              "    }\n",
              "\n",
              "    .dataframe thead th {\n",
              "        text-align: right;\n",
              "    }\n",
              "</style>\n",
              "<table border=\"1\" class=\"dataframe\">\n",
              "  <thead>\n",
              "    <tr style=\"text-align: right;\">\n",
              "      <th></th>\n",
              "      <th>essay_id</th>\n",
              "      <th>essay</th>\n",
              "      <th>rater1_domain1</th>\n",
              "      <th>rater2_domain1</th>\n",
              "      <th>rater3_domain1</th>\n",
              "      <th>domain1_score</th>\n",
              "      <th>rater1_domain2</th>\n",
              "      <th>rater2_domain2</th>\n",
              "      <th>domain2_score</th>\n",
              "      <th>rater1_trait1</th>\n",
              "      <th>...</th>\n",
              "      <th>rater2_trait3</th>\n",
              "      <th>rater2_trait4</th>\n",
              "      <th>rater2_trait5</th>\n",
              "      <th>rater2_trait6</th>\n",
              "      <th>rater3_trait1</th>\n",
              "      <th>rater3_trait2</th>\n",
              "      <th>rater3_trait3</th>\n",
              "      <th>rater3_trait4</th>\n",
              "      <th>rater3_trait5</th>\n",
              "      <th>rater3_trait6</th>\n",
              "    </tr>\n",
              "    <tr>\n",
              "      <th>essay_set</th>\n",
              "      <th></th>\n",
              "      <th></th>\n",
              "      <th></th>\n",
              "      <th></th>\n",
              "      <th></th>\n",
              "      <th></th>\n",
              "      <th></th>\n",
              "      <th></th>\n",
              "      <th></th>\n",
              "      <th></th>\n",
              "      <th></th>\n",
              "      <th></th>\n",
              "      <th></th>\n",
              "      <th></th>\n",
              "      <th></th>\n",
              "      <th></th>\n",
              "      <th></th>\n",
              "      <th></th>\n",
              "      <th></th>\n",
              "      <th></th>\n",
              "      <th></th>\n",
              "    </tr>\n",
              "  </thead>\n",
              "  <tbody>\n",
              "    <tr>\n",
              "      <th>1</th>\n",
              "      <td>1783</td>\n",
              "      <td>1783</td>\n",
              "      <td>1783</td>\n",
              "      <td>1783</td>\n",
              "      <td>0</td>\n",
              "      <td>1783</td>\n",
              "      <td>0</td>\n",
              "      <td>0</td>\n",
              "      <td>0</td>\n",
              "      <td>0</td>\n",
              "      <td>...</td>\n",
              "      <td>0</td>\n",
              "      <td>0</td>\n",
              "      <td>0</td>\n",
              "      <td>0</td>\n",
              "      <td>0</td>\n",
              "      <td>0</td>\n",
              "      <td>0</td>\n",
              "      <td>0</td>\n",
              "      <td>0</td>\n",
              "      <td>0</td>\n",
              "    </tr>\n",
              "    <tr>\n",
              "      <th>2</th>\n",
              "      <td>1800</td>\n",
              "      <td>1800</td>\n",
              "      <td>1800</td>\n",
              "      <td>1800</td>\n",
              "      <td>0</td>\n",
              "      <td>1800</td>\n",
              "      <td>1800</td>\n",
              "      <td>1800</td>\n",
              "      <td>1800</td>\n",
              "      <td>0</td>\n",
              "      <td>...</td>\n",
              "      <td>0</td>\n",
              "      <td>0</td>\n",
              "      <td>0</td>\n",
              "      <td>0</td>\n",
              "      <td>0</td>\n",
              "      <td>0</td>\n",
              "      <td>0</td>\n",
              "      <td>0</td>\n",
              "      <td>0</td>\n",
              "      <td>0</td>\n",
              "    </tr>\n",
              "    <tr>\n",
              "      <th>3</th>\n",
              "      <td>1726</td>\n",
              "      <td>1726</td>\n",
              "      <td>1726</td>\n",
              "      <td>1726</td>\n",
              "      <td>0</td>\n",
              "      <td>1726</td>\n",
              "      <td>0</td>\n",
              "      <td>0</td>\n",
              "      <td>0</td>\n",
              "      <td>0</td>\n",
              "      <td>...</td>\n",
              "      <td>0</td>\n",
              "      <td>0</td>\n",
              "      <td>0</td>\n",
              "      <td>0</td>\n",
              "      <td>0</td>\n",
              "      <td>0</td>\n",
              "      <td>0</td>\n",
              "      <td>0</td>\n",
              "      <td>0</td>\n",
              "      <td>0</td>\n",
              "    </tr>\n",
              "    <tr>\n",
              "      <th>4</th>\n",
              "      <td>1770</td>\n",
              "      <td>1770</td>\n",
              "      <td>1770</td>\n",
              "      <td>1770</td>\n",
              "      <td>0</td>\n",
              "      <td>1770</td>\n",
              "      <td>0</td>\n",
              "      <td>0</td>\n",
              "      <td>0</td>\n",
              "      <td>0</td>\n",
              "      <td>...</td>\n",
              "      <td>0</td>\n",
              "      <td>0</td>\n",
              "      <td>0</td>\n",
              "      <td>0</td>\n",
              "      <td>0</td>\n",
              "      <td>0</td>\n",
              "      <td>0</td>\n",
              "      <td>0</td>\n",
              "      <td>0</td>\n",
              "      <td>0</td>\n",
              "    </tr>\n",
              "    <tr>\n",
              "      <th>5</th>\n",
              "      <td>1805</td>\n",
              "      <td>1805</td>\n",
              "      <td>1805</td>\n",
              "      <td>1805</td>\n",
              "      <td>0</td>\n",
              "      <td>1805</td>\n",
              "      <td>0</td>\n",
              "      <td>0</td>\n",
              "      <td>0</td>\n",
              "      <td>0</td>\n",
              "      <td>...</td>\n",
              "      <td>0</td>\n",
              "      <td>0</td>\n",
              "      <td>0</td>\n",
              "      <td>0</td>\n",
              "      <td>0</td>\n",
              "      <td>0</td>\n",
              "      <td>0</td>\n",
              "      <td>0</td>\n",
              "      <td>0</td>\n",
              "      <td>0</td>\n",
              "    </tr>\n",
              "    <tr>\n",
              "      <th>6</th>\n",
              "      <td>1800</td>\n",
              "      <td>1800</td>\n",
              "      <td>1800</td>\n",
              "      <td>1800</td>\n",
              "      <td>0</td>\n",
              "      <td>1800</td>\n",
              "      <td>0</td>\n",
              "      <td>0</td>\n",
              "      <td>0</td>\n",
              "      <td>0</td>\n",
              "      <td>...</td>\n",
              "      <td>0</td>\n",
              "      <td>0</td>\n",
              "      <td>0</td>\n",
              "      <td>0</td>\n",
              "      <td>0</td>\n",
              "      <td>0</td>\n",
              "      <td>0</td>\n",
              "      <td>0</td>\n",
              "      <td>0</td>\n",
              "      <td>0</td>\n",
              "    </tr>\n",
              "    <tr>\n",
              "      <th>7</th>\n",
              "      <td>1569</td>\n",
              "      <td>1569</td>\n",
              "      <td>1569</td>\n",
              "      <td>1569</td>\n",
              "      <td>0</td>\n",
              "      <td>1569</td>\n",
              "      <td>0</td>\n",
              "      <td>0</td>\n",
              "      <td>0</td>\n",
              "      <td>1569</td>\n",
              "      <td>...</td>\n",
              "      <td>1569</td>\n",
              "      <td>1569</td>\n",
              "      <td>0</td>\n",
              "      <td>0</td>\n",
              "      <td>0</td>\n",
              "      <td>0</td>\n",
              "      <td>0</td>\n",
              "      <td>0</td>\n",
              "      <td>0</td>\n",
              "      <td>0</td>\n",
              "    </tr>\n",
              "    <tr>\n",
              "      <th>8</th>\n",
              "      <td>723</td>\n",
              "      <td>723</td>\n",
              "      <td>723</td>\n",
              "      <td>723</td>\n",
              "      <td>128</td>\n",
              "      <td>723</td>\n",
              "      <td>0</td>\n",
              "      <td>0</td>\n",
              "      <td>0</td>\n",
              "      <td>723</td>\n",
              "      <td>...</td>\n",
              "      <td>723</td>\n",
              "      <td>723</td>\n",
              "      <td>723</td>\n",
              "      <td>723</td>\n",
              "      <td>128</td>\n",
              "      <td>128</td>\n",
              "      <td>128</td>\n",
              "      <td>128</td>\n",
              "      <td>128</td>\n",
              "      <td>128</td>\n",
              "    </tr>\n",
              "  </tbody>\n",
              "</table>\n",
              "<p>8 rows × 27 columns</p>\n",
              "</div>"
            ],
            "text/plain": [
              "           essay_id  essay  rater1_domain1  rater2_domain1  rater3_domain1  \\\n",
              "essay_set                                                                    \n",
              "1              1783   1783            1783            1783               0   \n",
              "2              1800   1800            1800            1800               0   \n",
              "3              1726   1726            1726            1726               0   \n",
              "4              1770   1770            1770            1770               0   \n",
              "5              1805   1805            1805            1805               0   \n",
              "6              1800   1800            1800            1800               0   \n",
              "7              1569   1569            1569            1569               0   \n",
              "8               723    723             723             723             128   \n",
              "\n",
              "           domain1_score  rater1_domain2  rater2_domain2  domain2_score  \\\n",
              "essay_set                                                                 \n",
              "1                   1783               0               0              0   \n",
              "2                   1800            1800            1800           1800   \n",
              "3                   1726               0               0              0   \n",
              "4                   1770               0               0              0   \n",
              "5                   1805               0               0              0   \n",
              "6                   1800               0               0              0   \n",
              "7                   1569               0               0              0   \n",
              "8                    723               0               0              0   \n",
              "\n",
              "           rater1_trait1  ...  rater2_trait3  rater2_trait4  rater2_trait5  \\\n",
              "essay_set                 ...                                                \n",
              "1                      0  ...              0              0              0   \n",
              "2                      0  ...              0              0              0   \n",
              "3                      0  ...              0              0              0   \n",
              "4                      0  ...              0              0              0   \n",
              "5                      0  ...              0              0              0   \n",
              "6                      0  ...              0              0              0   \n",
              "7                   1569  ...           1569           1569              0   \n",
              "8                    723  ...            723            723            723   \n",
              "\n",
              "           rater2_trait6  rater3_trait1  rater3_trait2  rater3_trait3  \\\n",
              "essay_set                                                               \n",
              "1                      0              0              0              0   \n",
              "2                      0              0              0              0   \n",
              "3                      0              0              0              0   \n",
              "4                      0              0              0              0   \n",
              "5                      0              0              0              0   \n",
              "6                      0              0              0              0   \n",
              "7                      0              0              0              0   \n",
              "8                    723            128            128            128   \n",
              "\n",
              "           rater3_trait4  rater3_trait5  rater3_trait6  \n",
              "essay_set                                               \n",
              "1                      0              0              0  \n",
              "2                      0              0              0  \n",
              "3                      0              0              0  \n",
              "4                      0              0              0  \n",
              "5                      0              0              0  \n",
              "6                      0              0              0  \n",
              "7                      0              0              0  \n",
              "8                    128            128            128  \n",
              "\n",
              "[8 rows x 27 columns]"
            ]
          },
          "metadata": {
            "tags": []
          },
          "execution_count": 4
        }
      ]
    },
    {
      "cell_type": "code",
      "metadata": {
        "scrolled": true,
        "id": "WVPtjHC9CCcO",
        "colab_type": "code",
        "outputId": "b208310f-59dd-4fbc-aaf9-b6f7676fe677",
        "colab": {
          "base_uri": "https://localhost:8080/",
          "height": 395
        }
      },
      "source": [
        "# Get just the essays in the sets that have a distinct organization score\n",
        "org_score_data = data[data['essay_set'].isin([7,8])]\n",
        "\n",
        "# Essays 7 & 8 have organization scores at trait 2,\n",
        "# rename them to something simpler\n",
        "org_score_data.rename(columns={'rater1_trait2': 'org1', \n",
        "                               'rater2_trait2': 'org2', \n",
        "                               'rater3_trait2': 'org3'}, inplace=True)\n",
        "\n",
        "org_score_data['mean_org_score'] = 0\n",
        "org_score_data = org_score_data.loc[:, ['essay_id', \n",
        "                                        'essay_set',\n",
        "                                        'essay',\n",
        "                                        'org1',\n",
        "                                        'org2',\n",
        "                                        'mean_org_score']]\n",
        "\n",
        "# Calculate the mean org score\n",
        "for i in range(len(org_score_data)):\n",
        "    org_score_data.iloc[i, -1] = np.mean([org_score_data.iloc[i, -2],\n",
        "                                          org_score_data.iloc[i, -3]])\n",
        "    \n",
        "org_score_data.head()"
      ],
      "execution_count": 5,
      "outputs": [
        {
          "output_type": "stream",
          "text": [
            "/usr/local/lib/python3.6/dist-packages/pandas/core/frame.py:4025: SettingWithCopyWarning: \n",
            "A value is trying to be set on a copy of a slice from a DataFrame\n",
            "\n",
            "See the caveats in the documentation: http://pandas.pydata.org/pandas-docs/stable/indexing.html#indexing-view-versus-copy\n",
            "  return super(DataFrame, self).rename(**kwargs)\n",
            "/usr/local/lib/python3.6/dist-packages/ipykernel_launcher.py:9: SettingWithCopyWarning: \n",
            "A value is trying to be set on a copy of a slice from a DataFrame.\n",
            "Try using .loc[row_indexer,col_indexer] = value instead\n",
            "\n",
            "See the caveats in the documentation: http://pandas.pydata.org/pandas-docs/stable/indexing.html#indexing-view-versus-copy\n",
            "  if __name__ == '__main__':\n"
          ],
          "name": "stderr"
        },
        {
          "output_type": "execute_result",
          "data": {
            "text/html": [
              "<div>\n",
              "<style scoped>\n",
              "    .dataframe tbody tr th:only-of-type {\n",
              "        vertical-align: middle;\n",
              "    }\n",
              "\n",
              "    .dataframe tbody tr th {\n",
              "        vertical-align: top;\n",
              "    }\n",
              "\n",
              "    .dataframe thead th {\n",
              "        text-align: right;\n",
              "    }\n",
              "</style>\n",
              "<table border=\"1\" class=\"dataframe\">\n",
              "  <thead>\n",
              "    <tr style=\"text-align: right;\">\n",
              "      <th></th>\n",
              "      <th>essay_id</th>\n",
              "      <th>essay_set</th>\n",
              "      <th>essay</th>\n",
              "      <th>org1</th>\n",
              "      <th>org2</th>\n",
              "      <th>mean_org_score</th>\n",
              "    </tr>\n",
              "  </thead>\n",
              "  <tbody>\n",
              "    <tr>\n",
              "      <th>10684</th>\n",
              "      <td>17834</td>\n",
              "      <td>7</td>\n",
              "      <td>Patience is when your waiting .I was patience ...</td>\n",
              "      <td>2.0</td>\n",
              "      <td>2.0</td>\n",
              "      <td>2.0</td>\n",
              "    </tr>\n",
              "    <tr>\n",
              "      <th>10685</th>\n",
              "      <td>17836</td>\n",
              "      <td>7</td>\n",
              "      <td>I am not a patience person, like I cant sit i...</td>\n",
              "      <td>1.0</td>\n",
              "      <td>2.0</td>\n",
              "      <td>1.5</td>\n",
              "    </tr>\n",
              "    <tr>\n",
              "      <th>10686</th>\n",
              "      <td>17837</td>\n",
              "      <td>7</td>\n",
              "      <td>One day I was at basketball practice and I was...</td>\n",
              "      <td>2.0</td>\n",
              "      <td>2.0</td>\n",
              "      <td>2.0</td>\n",
              "    </tr>\n",
              "    <tr>\n",
              "      <th>10687</th>\n",
              "      <td>17838</td>\n",
              "      <td>7</td>\n",
              "      <td>I going to write about a time when I went to t...</td>\n",
              "      <td>2.0</td>\n",
              "      <td>2.0</td>\n",
              "      <td>2.0</td>\n",
              "    </tr>\n",
              "    <tr>\n",
              "      <th>10688</th>\n",
              "      <td>17839</td>\n",
              "      <td>7</td>\n",
              "      <td>It can be very hard for somebody to be patient...</td>\n",
              "      <td>2.0</td>\n",
              "      <td>2.0</td>\n",
              "      <td>2.0</td>\n",
              "    </tr>\n",
              "  </tbody>\n",
              "</table>\n",
              "</div>"
            ],
            "text/plain": [
              "       essay_id  essay_set                                              essay  \\\n",
              "10684     17834          7  Patience is when your waiting .I was patience ...   \n",
              "10685     17836          7  I am not a patience person, like I cant sit i...   \n",
              "10686     17837          7  One day I was at basketball practice and I was...   \n",
              "10687     17838          7  I going to write about a time when I went to t...   \n",
              "10688     17839          7  It can be very hard for somebody to be patient...   \n",
              "\n",
              "       org1  org2  mean_org_score  \n",
              "10684   2.0   2.0             2.0  \n",
              "10685   1.0   2.0             1.5  \n",
              "10686   2.0   2.0             2.0  \n",
              "10687   2.0   2.0             2.0  \n",
              "10688   2.0   2.0             2.0  "
            ]
          },
          "metadata": {
            "tags": []
          },
          "execution_count": 5
        }
      ]
    },
    {
      "cell_type": "code",
      "metadata": {
        "id": "IXrCx51Lx7It",
        "colab_type": "code",
        "colab": {
          "base_uri": "https://localhost:8080/",
          "height": 200
        },
        "outputId": "b221dc62-3dc3-495b-8fc8-5fa7fd2971f5"
      },
      "source": [
        "# Fix punctuation errors that interfere with sentence splitting\n",
        "for i in range(len(org_score_data.essay)):\n",
        "  \n",
        "  org_score_data.iloc[i, 2]  = re.sub(r'(?<=[\\.\\,\\?\\!])(?=[^\\s])', \n",
        "                                      ' ',\n",
        "                                      org_score_data.iloc[i, 2])\n",
        "\n",
        "org_score_data.head()"
      ],
      "execution_count": 6,
      "outputs": [
        {
          "output_type": "execute_result",
          "data": {
            "text/html": [
              "<div>\n",
              "<style scoped>\n",
              "    .dataframe tbody tr th:only-of-type {\n",
              "        vertical-align: middle;\n",
              "    }\n",
              "\n",
              "    .dataframe tbody tr th {\n",
              "        vertical-align: top;\n",
              "    }\n",
              "\n",
              "    .dataframe thead th {\n",
              "        text-align: right;\n",
              "    }\n",
              "</style>\n",
              "<table border=\"1\" class=\"dataframe\">\n",
              "  <thead>\n",
              "    <tr style=\"text-align: right;\">\n",
              "      <th></th>\n",
              "      <th>essay_id</th>\n",
              "      <th>essay_set</th>\n",
              "      <th>essay</th>\n",
              "      <th>org1</th>\n",
              "      <th>org2</th>\n",
              "      <th>mean_org_score</th>\n",
              "    </tr>\n",
              "  </thead>\n",
              "  <tbody>\n",
              "    <tr>\n",
              "      <th>10684</th>\n",
              "      <td>17834</td>\n",
              "      <td>7</td>\n",
              "      <td>Patience is when your waiting . I was patience...</td>\n",
              "      <td>2.0</td>\n",
              "      <td>2.0</td>\n",
              "      <td>2.0</td>\n",
              "    </tr>\n",
              "    <tr>\n",
              "      <th>10685</th>\n",
              "      <td>17836</td>\n",
              "      <td>7</td>\n",
              "      <td>I am not a patience person, like I cant sit i...</td>\n",
              "      <td>1.0</td>\n",
              "      <td>2.0</td>\n",
              "      <td>1.5</td>\n",
              "    </tr>\n",
              "    <tr>\n",
              "      <th>10686</th>\n",
              "      <td>17837</td>\n",
              "      <td>7</td>\n",
              "      <td>One day I was at basketball practice and I was...</td>\n",
              "      <td>2.0</td>\n",
              "      <td>2.0</td>\n",
              "      <td>2.0</td>\n",
              "    </tr>\n",
              "    <tr>\n",
              "      <th>10687</th>\n",
              "      <td>17838</td>\n",
              "      <td>7</td>\n",
              "      <td>I going to write about a time when I went to t...</td>\n",
              "      <td>2.0</td>\n",
              "      <td>2.0</td>\n",
              "      <td>2.0</td>\n",
              "    </tr>\n",
              "    <tr>\n",
              "      <th>10688</th>\n",
              "      <td>17839</td>\n",
              "      <td>7</td>\n",
              "      <td>It can be very hard for somebody to be patient...</td>\n",
              "      <td>2.0</td>\n",
              "      <td>2.0</td>\n",
              "      <td>2.0</td>\n",
              "    </tr>\n",
              "  </tbody>\n",
              "</table>\n",
              "</div>"
            ],
            "text/plain": [
              "       essay_id  essay_set                                              essay  \\\n",
              "10684     17834          7  Patience is when your waiting . I was patience...   \n",
              "10685     17836          7  I am not a patience person, like I cant sit i...   \n",
              "10686     17837          7  One day I was at basketball practice and I was...   \n",
              "10687     17838          7  I going to write about a time when I went to t...   \n",
              "10688     17839          7  It can be very hard for somebody to be patient...   \n",
              "\n",
              "       org1  org2  mean_org_score  \n",
              "10684   2.0   2.0             2.0  \n",
              "10685   1.0   2.0             1.5  \n",
              "10686   2.0   2.0             2.0  \n",
              "10687   2.0   2.0             2.0  \n",
              "10688   2.0   2.0             2.0  "
            ]
          },
          "metadata": {
            "tags": []
          },
          "execution_count": 6
        }
      ]
    },
    {
      "cell_type": "code",
      "metadata": {
        "id": "5PBtG3z2CCc8",
        "colab_type": "code",
        "colab": {}
      },
      "source": [
        "# Restructure the data into rows for each sentence in the essay\n",
        "sentence_data = []\n",
        "nlp = spacy.load('en')\n",
        "\n",
        "for i in range(len(org_score_data)):\n",
        "    essay_id = org_score_data.essay_id.tolist()[i]\n",
        "    essay_set = org_score_data.essay_set.tolist()[i]\n",
        "    org_1 = org_score_data.org1.tolist()[i]\n",
        "    org_2 = org_score_data.org2.tolist()[i]\n",
        "    org_score = org_score_data.mean_org_score.tolist()[i]\n",
        "    sentences = list(nlp(org_score_data.essay.tolist()[i]).sents)\n",
        "    for j in range(len(sentences)):\n",
        "        sentence_data.append([essay_id, essay_set, j, sentences[j], org_1, org_2, org_score])\n"
      ],
      "execution_count": 0,
      "outputs": []
    },
    {
      "cell_type": "code",
      "metadata": {
        "id": "GOtdGHuOCCdI",
        "colab_type": "code",
        "outputId": "2fed9f91-bb0c-4399-b47e-b2eea602ae5f",
        "colab": {
          "base_uri": "https://localhost:8080/",
          "height": 200
        }
      },
      "source": [
        "# Create the sentence-wise data frame\n",
        "sent_df = pd.DataFrame(sentence_data, columns=['essay_id', 'essay_set', 'sentence_num', \n",
        "                                               'sentence', 'org_1', 'org_2', 'org_score'])\n",
        "sent_df.head()"
      ],
      "execution_count": 8,
      "outputs": [
        {
          "output_type": "execute_result",
          "data": {
            "text/html": [
              "<div>\n",
              "<style scoped>\n",
              "    .dataframe tbody tr th:only-of-type {\n",
              "        vertical-align: middle;\n",
              "    }\n",
              "\n",
              "    .dataframe tbody tr th {\n",
              "        vertical-align: top;\n",
              "    }\n",
              "\n",
              "    .dataframe thead th {\n",
              "        text-align: right;\n",
              "    }\n",
              "</style>\n",
              "<table border=\"1\" class=\"dataframe\">\n",
              "  <thead>\n",
              "    <tr style=\"text-align: right;\">\n",
              "      <th></th>\n",
              "      <th>essay_id</th>\n",
              "      <th>essay_set</th>\n",
              "      <th>sentence_num</th>\n",
              "      <th>sentence</th>\n",
              "      <th>org_1</th>\n",
              "      <th>org_2</th>\n",
              "      <th>org_score</th>\n",
              "    </tr>\n",
              "  </thead>\n",
              "  <tbody>\n",
              "    <tr>\n",
              "      <th>0</th>\n",
              "      <td>17834</td>\n",
              "      <td>7</td>\n",
              "      <td>0</td>\n",
              "      <td>(Patience, is, when, your, waiting, .)</td>\n",
              "      <td>2.0</td>\n",
              "      <td>2.0</td>\n",
              "      <td>2.0</td>\n",
              "    </tr>\n",
              "    <tr>\n",
              "      <th>1</th>\n",
              "      <td>17834</td>\n",
              "      <td>7</td>\n",
              "      <td>1</td>\n",
              "      <td>(I, was, patience, when, in, line, waiting, fo...</td>\n",
              "      <td>2.0</td>\n",
              "      <td>2.0</td>\n",
              "      <td>2.0</td>\n",
              "    </tr>\n",
              "    <tr>\n",
              "      <th>2</th>\n",
              "      <td>17834</td>\n",
              "      <td>7</td>\n",
              "      <td>2</td>\n",
              "      <td>(I, didnt)</td>\n",
              "      <td>2.0</td>\n",
              "      <td>2.0</td>\n",
              "      <td>2.0</td>\n",
              "    </tr>\n",
              "    <tr>\n",
              "      <th>3</th>\n",
              "      <td>17834</td>\n",
              "      <td>7</td>\n",
              "      <td>3</td>\n",
              "      <td>(c, ut, any, one, to, eat, .)</td>\n",
              "      <td>2.0</td>\n",
              "      <td>2.0</td>\n",
              "      <td>2.0</td>\n",
              "    </tr>\n",
              "    <tr>\n",
              "      <th>4</th>\n",
              "      <td>17834</td>\n",
              "      <td>7</td>\n",
              "      <td>4</td>\n",
              "      <td>(I, was, standing, and, waiting, for, my, turn...</td>\n",
              "      <td>2.0</td>\n",
              "      <td>2.0</td>\n",
              "      <td>2.0</td>\n",
              "    </tr>\n",
              "  </tbody>\n",
              "</table>\n",
              "</div>"
            ],
            "text/plain": [
              "   essay_id  essay_set  sentence_num  \\\n",
              "0     17834          7             0   \n",
              "1     17834          7             1   \n",
              "2     17834          7             2   \n",
              "3     17834          7             3   \n",
              "4     17834          7             4   \n",
              "\n",
              "                                            sentence  org_1  org_2  org_score  \n",
              "0             (Patience, is, when, your, waiting, .)    2.0    2.0        2.0  \n",
              "1  (I, was, patience, when, in, line, waiting, fo...    2.0    2.0        2.0  \n",
              "2                                        (I, didnt)    2.0    2.0        2.0  \n",
              "3                      (c, ut, any, one, to, eat, .)    2.0    2.0        2.0  \n",
              "4  (I, was, standing, and, waiting, for, my, turn...    2.0    2.0        2.0  "
            ]
          },
          "metadata": {
            "tags": []
          },
          "execution_count": 8
        }
      ]
    },
    {
      "cell_type": "code",
      "metadata": {
        "id": "Mq3GCMpHduex",
        "colab_type": "code",
        "outputId": "1f7949da-11aa-4bf3-db81-9b51f59abcaf",
        "colab": {
          "base_uri": "https://localhost:8080/",
          "height": 413
        }
      },
      "source": [
        "seven_df = sent_df.loc[sent_df['essay_set']==7]\n",
        "eight_df = sent_df.loc[sent_df['essay_set']==8]\n",
        "\n",
        "seven_df['org_score'] = seven_df['org_score'].apply(lambda x: int((x + 1) * 3) -2)\n",
        "eight_df['org_score'] = eight_df['org_score'] * 2\n",
        "\n",
        "sent_df = pd.concat([seven_df, eight_df])\n",
        "sent_df['org_score'] = sent_df['org_score'].astype('int64')\n",
        "sent_df.head()"
      ],
      "execution_count": 9,
      "outputs": [
        {
          "output_type": "stream",
          "text": [
            "/usr/local/lib/python3.6/dist-packages/ipykernel_launcher.py:4: SettingWithCopyWarning: \n",
            "A value is trying to be set on a copy of a slice from a DataFrame.\n",
            "Try using .loc[row_indexer,col_indexer] = value instead\n",
            "\n",
            "See the caveats in the documentation: http://pandas.pydata.org/pandas-docs/stable/indexing.html#indexing-view-versus-copy\n",
            "  after removing the cwd from sys.path.\n",
            "/usr/local/lib/python3.6/dist-packages/ipykernel_launcher.py:5: SettingWithCopyWarning: \n",
            "A value is trying to be set on a copy of a slice from a DataFrame.\n",
            "Try using .loc[row_indexer,col_indexer] = value instead\n",
            "\n",
            "See the caveats in the documentation: http://pandas.pydata.org/pandas-docs/stable/indexing.html#indexing-view-versus-copy\n",
            "  \"\"\"\n"
          ],
          "name": "stderr"
        },
        {
          "output_type": "execute_result",
          "data": {
            "text/html": [
              "<div>\n",
              "<style scoped>\n",
              "    .dataframe tbody tr th:only-of-type {\n",
              "        vertical-align: middle;\n",
              "    }\n",
              "\n",
              "    .dataframe tbody tr th {\n",
              "        vertical-align: top;\n",
              "    }\n",
              "\n",
              "    .dataframe thead th {\n",
              "        text-align: right;\n",
              "    }\n",
              "</style>\n",
              "<table border=\"1\" class=\"dataframe\">\n",
              "  <thead>\n",
              "    <tr style=\"text-align: right;\">\n",
              "      <th></th>\n",
              "      <th>essay_id</th>\n",
              "      <th>essay_set</th>\n",
              "      <th>sentence_num</th>\n",
              "      <th>sentence</th>\n",
              "      <th>org_1</th>\n",
              "      <th>org_2</th>\n",
              "      <th>org_score</th>\n",
              "    </tr>\n",
              "  </thead>\n",
              "  <tbody>\n",
              "    <tr>\n",
              "      <th>0</th>\n",
              "      <td>17834</td>\n",
              "      <td>7</td>\n",
              "      <td>0</td>\n",
              "      <td>(Patience, is, when, your, waiting, .)</td>\n",
              "      <td>2.0</td>\n",
              "      <td>2.0</td>\n",
              "      <td>7</td>\n",
              "    </tr>\n",
              "    <tr>\n",
              "      <th>1</th>\n",
              "      <td>17834</td>\n",
              "      <td>7</td>\n",
              "      <td>1</td>\n",
              "      <td>(I, was, patience, when, in, line, waiting, fo...</td>\n",
              "      <td>2.0</td>\n",
              "      <td>2.0</td>\n",
              "      <td>7</td>\n",
              "    </tr>\n",
              "    <tr>\n",
              "      <th>2</th>\n",
              "      <td>17834</td>\n",
              "      <td>7</td>\n",
              "      <td>2</td>\n",
              "      <td>(I, didnt)</td>\n",
              "      <td>2.0</td>\n",
              "      <td>2.0</td>\n",
              "      <td>7</td>\n",
              "    </tr>\n",
              "    <tr>\n",
              "      <th>3</th>\n",
              "      <td>17834</td>\n",
              "      <td>7</td>\n",
              "      <td>3</td>\n",
              "      <td>(c, ut, any, one, to, eat, .)</td>\n",
              "      <td>2.0</td>\n",
              "      <td>2.0</td>\n",
              "      <td>7</td>\n",
              "    </tr>\n",
              "    <tr>\n",
              "      <th>4</th>\n",
              "      <td>17834</td>\n",
              "      <td>7</td>\n",
              "      <td>4</td>\n",
              "      <td>(I, was, standing, and, waiting, for, my, turn...</td>\n",
              "      <td>2.0</td>\n",
              "      <td>2.0</td>\n",
              "      <td>7</td>\n",
              "    </tr>\n",
              "  </tbody>\n",
              "</table>\n",
              "</div>"
            ],
            "text/plain": [
              "   essay_id  essay_set  sentence_num  \\\n",
              "0     17834          7             0   \n",
              "1     17834          7             1   \n",
              "2     17834          7             2   \n",
              "3     17834          7             3   \n",
              "4     17834          7             4   \n",
              "\n",
              "                                            sentence  org_1  org_2  org_score  \n",
              "0             (Patience, is, when, your, waiting, .)    2.0    2.0          7  \n",
              "1  (I, was, patience, when, in, line, waiting, fo...    2.0    2.0          7  \n",
              "2                                        (I, didnt)    2.0    2.0          7  \n",
              "3                      (c, ut, any, one, to, eat, .)    2.0    2.0          7  \n",
              "4  (I, was, standing, and, waiting, for, my, turn...    2.0    2.0          7  "
            ]
          },
          "metadata": {
            "tags": []
          },
          "execution_count": 9
        }
      ]
    },
    {
      "cell_type": "code",
      "metadata": {
        "id": "NcID1TWKhJtm",
        "colab_type": "code",
        "colab": {}
      },
      "source": [
        "sent_df['raw_score'] = 0"
      ],
      "execution_count": 0,
      "outputs": []
    },
    {
      "cell_type": "code",
      "metadata": {
        "id": "1tgM4BCNjiWS",
        "colab_type": "code",
        "outputId": "d2733a41-7ac3-410d-e06e-602a5661563c",
        "colab": {
          "base_uri": "https://localhost:8080/",
          "height": 479
        }
      },
      "source": [
        "raw_score_dict = {}\n",
        "cluster_dict = {}\n",
        "for e in sent_df['essay_id'].unique():\n",
        "  cluster_dict[e] = {}\n",
        "  essay = sent_df.loc[sent_df['essay_id']==e]\n",
        "  sn = range(essay.sentence_num.tolist()[-1])\n",
        "  raw_org_score = []\n",
        "  for i in sn:\n",
        "    sent_score = np.sum([essay.sentence.tolist()[i].similarity(essay.sentence.tolist()[j]) / (np.log(abs(j-i))+1) for j in sn if j != i])\n",
        "    raw_org_score.append(sent_score)\n",
        "    cluster_dict[e].update({str(i)+str(j): essay.sentence.tolist()[i].similarity(essay.sentence.tolist()[j]) for j in sn if j != i and abs(j-i) < 6})\n",
        "  raw_score_dict[e] = np.mean(raw_org_score)\n",
        "  if e % 100  == 0:\n",
        "    print(raw_score_dict[e])"
      ],
      "execution_count": 11,
      "outputs": [
        {
          "output_type": "stream",
          "text": [
            "2.83844261694476\n",
            "5.241092900540041\n",
            "5.00265312351701\n"
          ],
          "name": "stdout"
        },
        {
          "output_type": "stream",
          "text": [
            "/usr/local/lib/python3.6/dist-packages/numpy/core/fromnumeric.py:3118: RuntimeWarning: Mean of empty slice.\n",
            "  out=out, **kwargs)\n",
            "/usr/local/lib/python3.6/dist-packages/numpy/core/_methods.py:85: RuntimeWarning: invalid value encountered in double_scalars\n",
            "  ret = ret.dtype.type(ret / rcount)\n"
          ],
          "name": "stderr"
        },
        {
          "output_type": "stream",
          "text": [
            "4.112137371522585\n",
            "3.426767638273424\n",
            "3.743459342049491\n",
            "4.25425215278264\n",
            "1.4664523412597466\n",
            "2.9733815679828033\n",
            "4.784537747086869\n",
            "4.2335798038379675\n",
            "3.5695029582873303\n",
            "3.9540579878822895\n",
            "3.06744730209008\n",
            "1.3098006682378902\n",
            "2.9682959301951213\n",
            "6.588401874371875\n",
            "6.363647820232217\n",
            "4.3208511829399\n",
            "9.365658133327328\n",
            "10.261635002554742\n",
            "8.64766591499461\n"
          ],
          "name": "stdout"
        }
      ]
    },
    {
      "cell_type": "code",
      "metadata": {
        "id": "8gIiJuKM6kO_",
        "colab_type": "code",
        "outputId": "b7889e1e-6421-4c97-d3ff-39ac7d504985",
        "colab": {
          "base_uri": "https://localhost:8080/",
          "height": 249
        }
      },
      "source": [
        "cluster_df = pd.DataFrame(cluster_dict)\n",
        "cluster_df.fillna(cluster_df.mean(), inplace=True)\n",
        "cluster_df = cluster_df.T\n",
        "cluster_df.head()"
      ],
      "execution_count": 12,
      "outputs": [
        {
          "output_type": "execute_result",
          "data": {
            "text/html": [
              "<div>\n",
              "<style scoped>\n",
              "    .dataframe tbody tr th:only-of-type {\n",
              "        vertical-align: middle;\n",
              "    }\n",
              "\n",
              "    .dataframe tbody tr th {\n",
              "        vertical-align: top;\n",
              "    }\n",
              "\n",
              "    .dataframe thead th {\n",
              "        text-align: right;\n",
              "    }\n",
              "</style>\n",
              "<table border=\"1\" class=\"dataframe\">\n",
              "  <thead>\n",
              "    <tr style=\"text-align: right;\">\n",
              "      <th></th>\n",
              "      <th>01</th>\n",
              "      <th>02</th>\n",
              "      <th>03</th>\n",
              "      <th>04</th>\n",
              "      <th>05</th>\n",
              "      <th>10</th>\n",
              "      <th>1011</th>\n",
              "      <th>1012</th>\n",
              "      <th>1013</th>\n",
              "      <th>1014</th>\n",
              "      <th>...</th>\n",
              "      <th>9594</th>\n",
              "      <th>9596</th>\n",
              "      <th>96</th>\n",
              "      <th>9691</th>\n",
              "      <th>9692</th>\n",
              "      <th>9693</th>\n",
              "      <th>9694</th>\n",
              "      <th>9695</th>\n",
              "      <th>97</th>\n",
              "      <th>98</th>\n",
              "    </tr>\n",
              "  </thead>\n",
              "  <tbody>\n",
              "    <tr>\n",
              "      <th>17834</th>\n",
              "      <td>0.637271</td>\n",
              "      <td>0.122946</td>\n",
              "      <td>0.212327</td>\n",
              "      <td>0.561724</td>\n",
              "      <td>0.462888</td>\n",
              "      <td>0.637271</td>\n",
              "      <td>0.441983</td>\n",
              "      <td>0.472919</td>\n",
              "      <td>0.472919</td>\n",
              "      <td>0.472919</td>\n",
              "      <td>...</td>\n",
              "      <td>0.472919</td>\n",
              "      <td>0.472919</td>\n",
              "      <td>0.439273</td>\n",
              "      <td>0.472919</td>\n",
              "      <td>0.472919</td>\n",
              "      <td>0.472919</td>\n",
              "      <td>0.472919</td>\n",
              "      <td>0.472919</td>\n",
              "      <td>0.461008</td>\n",
              "      <td>0.372455</td>\n",
              "    </tr>\n",
              "    <tr>\n",
              "      <th>17836</th>\n",
              "      <td>0.734469</td>\n",
              "      <td>0.743172</td>\n",
              "      <td>0.535095</td>\n",
              "      <td>0.409800</td>\n",
              "      <td>0.555344</td>\n",
              "      <td>0.734469</td>\n",
              "      <td>0.555344</td>\n",
              "      <td>0.555344</td>\n",
              "      <td>0.555344</td>\n",
              "      <td>0.555344</td>\n",
              "      <td>...</td>\n",
              "      <td>0.555344</td>\n",
              "      <td>0.555344</td>\n",
              "      <td>0.555344</td>\n",
              "      <td>0.555344</td>\n",
              "      <td>0.555344</td>\n",
              "      <td>0.555344</td>\n",
              "      <td>0.555344</td>\n",
              "      <td>0.555344</td>\n",
              "      <td>0.555344</td>\n",
              "      <td>0.555344</td>\n",
              "    </tr>\n",
              "    <tr>\n",
              "      <th>17837</th>\n",
              "      <td>0.501412</td>\n",
              "      <td>0.568725</td>\n",
              "      <td>0.635602</td>\n",
              "      <td>0.767329</td>\n",
              "      <td>0.649697</td>\n",
              "      <td>0.501412</td>\n",
              "      <td>0.570150</td>\n",
              "      <td>0.499382</td>\n",
              "      <td>0.499382</td>\n",
              "      <td>0.499382</td>\n",
              "      <td>...</td>\n",
              "      <td>0.499382</td>\n",
              "      <td>0.499382</td>\n",
              "      <td>0.479013</td>\n",
              "      <td>0.499382</td>\n",
              "      <td>0.499382</td>\n",
              "      <td>0.499382</td>\n",
              "      <td>0.499382</td>\n",
              "      <td>0.499382</td>\n",
              "      <td>0.422788</td>\n",
              "      <td>0.307651</td>\n",
              "    </tr>\n",
              "    <tr>\n",
              "      <th>17838</th>\n",
              "      <td>0.734580</td>\n",
              "      <td>0.365541</td>\n",
              "      <td>0.530736</td>\n",
              "      <td>0.532862</td>\n",
              "      <td>0.719456</td>\n",
              "      <td>0.734580</td>\n",
              "      <td>0.842731</td>\n",
              "      <td>0.218887</td>\n",
              "      <td>0.509203</td>\n",
              "      <td>0.509203</td>\n",
              "      <td>...</td>\n",
              "      <td>0.509203</td>\n",
              "      <td>0.509203</td>\n",
              "      <td>0.641746</td>\n",
              "      <td>0.509203</td>\n",
              "      <td>0.509203</td>\n",
              "      <td>0.509203</td>\n",
              "      <td>0.509203</td>\n",
              "      <td>0.509203</td>\n",
              "      <td>0.557339</td>\n",
              "      <td>0.699424</td>\n",
              "    </tr>\n",
              "    <tr>\n",
              "      <th>17839</th>\n",
              "      <td>0.453823</td>\n",
              "      <td>0.747733</td>\n",
              "      <td>0.746139</td>\n",
              "      <td>0.635583</td>\n",
              "      <td>0.244928</td>\n",
              "      <td>0.453823</td>\n",
              "      <td>0.529632</td>\n",
              "      <td>0.529632</td>\n",
              "      <td>0.529632</td>\n",
              "      <td>0.529632</td>\n",
              "      <td>...</td>\n",
              "      <td>0.529632</td>\n",
              "      <td>0.529632</td>\n",
              "      <td>0.554842</td>\n",
              "      <td>0.529632</td>\n",
              "      <td>0.529632</td>\n",
              "      <td>0.529632</td>\n",
              "      <td>0.529632</td>\n",
              "      <td>0.529632</td>\n",
              "      <td>0.649634</td>\n",
              "      <td>0.739864</td>\n",
              "    </tr>\n",
              "  </tbody>\n",
              "</table>\n",
              "<p>5 rows × 940 columns</p>\n",
              "</div>"
            ],
            "text/plain": [
              "             01        02        03        04        05        10      1011  \\\n",
              "17834  0.637271  0.122946  0.212327  0.561724  0.462888  0.637271  0.441983   \n",
              "17836  0.734469  0.743172  0.535095  0.409800  0.555344  0.734469  0.555344   \n",
              "17837  0.501412  0.568725  0.635602  0.767329  0.649697  0.501412  0.570150   \n",
              "17838  0.734580  0.365541  0.530736  0.532862  0.719456  0.734580  0.842731   \n",
              "17839  0.453823  0.747733  0.746139  0.635583  0.244928  0.453823  0.529632   \n",
              "\n",
              "           1012      1013      1014  ...      9594      9596        96  \\\n",
              "17834  0.472919  0.472919  0.472919  ...  0.472919  0.472919  0.439273   \n",
              "17836  0.555344  0.555344  0.555344  ...  0.555344  0.555344  0.555344   \n",
              "17837  0.499382  0.499382  0.499382  ...  0.499382  0.499382  0.479013   \n",
              "17838  0.218887  0.509203  0.509203  ...  0.509203  0.509203  0.641746   \n",
              "17839  0.529632  0.529632  0.529632  ...  0.529632  0.529632  0.554842   \n",
              "\n",
              "           9691      9692      9693      9694      9695        97        98  \n",
              "17834  0.472919  0.472919  0.472919  0.472919  0.472919  0.461008  0.372455  \n",
              "17836  0.555344  0.555344  0.555344  0.555344  0.555344  0.555344  0.555344  \n",
              "17837  0.499382  0.499382  0.499382  0.499382  0.499382  0.422788  0.307651  \n",
              "17838  0.509203  0.509203  0.509203  0.509203  0.509203  0.557339  0.699424  \n",
              "17839  0.529632  0.529632  0.529632  0.529632  0.529632  0.649634  0.739864  \n",
              "\n",
              "[5 rows x 940 columns]"
            ]
          },
          "metadata": {
            "tags": []
          },
          "execution_count": 12
        }
      ]
    },
    {
      "cell_type": "code",
      "metadata": {
        "id": "wLXGkORVyqCo",
        "colab_type": "code",
        "outputId": "9400b8ae-b961-403e-df91-5e1d8509d288",
        "colab": {
          "base_uri": "https://localhost:8080/",
          "height": 200
        }
      },
      "source": [
        "sent_df['raw_score'] = sent_df['essay_id'].replace(raw_score_dict, inplace=False)\n",
        "sent_df.tail()"
      ],
      "execution_count": 13,
      "outputs": [
        {
          "output_type": "execute_result",
          "data": {
            "text/html": [
              "<div>\n",
              "<style scoped>\n",
              "    .dataframe tbody tr th:only-of-type {\n",
              "        vertical-align: middle;\n",
              "    }\n",
              "\n",
              "    .dataframe tbody tr th {\n",
              "        vertical-align: top;\n",
              "    }\n",
              "\n",
              "    .dataframe thead th {\n",
              "        text-align: right;\n",
              "    }\n",
              "</style>\n",
              "<table border=\"1\" class=\"dataframe\">\n",
              "  <thead>\n",
              "    <tr style=\"text-align: right;\">\n",
              "      <th></th>\n",
              "      <th>essay_id</th>\n",
              "      <th>essay_set</th>\n",
              "      <th>sentence_num</th>\n",
              "      <th>sentence</th>\n",
              "      <th>org_1</th>\n",
              "      <th>org_2</th>\n",
              "      <th>org_score</th>\n",
              "      <th>raw_score</th>\n",
              "    </tr>\n",
              "  </thead>\n",
              "  <tbody>\n",
              "    <tr>\n",
              "      <th>54826</th>\n",
              "      <td>21633</td>\n",
              "      <td>8</td>\n",
              "      <td>24</td>\n",
              "      <td>(Learning, that, at, any, moment, I, can, laug...</td>\n",
              "      <td>4.0</td>\n",
              "      <td>4.0</td>\n",
              "      <td>8</td>\n",
              "      <td>6.248613</td>\n",
              "    </tr>\n",
              "    <tr>\n",
              "      <th>54827</th>\n",
              "      <td>21633</td>\n",
              "      <td>8</td>\n",
              "      <td>25</td>\n",
              "      <td>(Even, if, there, is, no, joke, being, told, ,...</td>\n",
              "      <td>4.0</td>\n",
              "      <td>4.0</td>\n",
              "      <td>8</td>\n",
              "      <td>6.248613</td>\n",
              "    </tr>\n",
              "    <tr>\n",
              "      <th>54828</th>\n",
              "      <td>21633</td>\n",
              "      <td>8</td>\n",
              "      <td>26</td>\n",
              "      <td>(Most, people, would, probably, look, a, me, i...</td>\n",
              "      <td>4.0</td>\n",
              "      <td>4.0</td>\n",
              "      <td>8</td>\n",
              "      <td>6.248613</td>\n",
              "    </tr>\n",
              "    <tr>\n",
              "      <th>54829</th>\n",
              "      <td>21633</td>\n",
              "      <td>8</td>\n",
              "      <td>27</td>\n",
              "      <td>(Laughing, relieves, stress, ,, makes, other, ...</td>\n",
              "      <td>4.0</td>\n",
              "      <td>4.0</td>\n",
              "      <td>8</td>\n",
              "      <td>6.248613</td>\n",
              "    </tr>\n",
              "    <tr>\n",
              "      <th>54830</th>\n",
              "      <td>21633</td>\n",
              "      <td>8</td>\n",
              "      <td>28</td>\n",
              "      <td>(I, have, finally, learned, that, even, with, ...</td>\n",
              "      <td>4.0</td>\n",
              "      <td>4.0</td>\n",
              "      <td>8</td>\n",
              "      <td>6.248613</td>\n",
              "    </tr>\n",
              "  </tbody>\n",
              "</table>\n",
              "</div>"
            ],
            "text/plain": [
              "       essay_id  essay_set  sentence_num  \\\n",
              "54826     21633          8            24   \n",
              "54827     21633          8            25   \n",
              "54828     21633          8            26   \n",
              "54829     21633          8            27   \n",
              "54830     21633          8            28   \n",
              "\n",
              "                                                sentence  org_1  org_2  \\\n",
              "54826  (Learning, that, at, any, moment, I, can, laug...    4.0    4.0   \n",
              "54827  (Even, if, there, is, no, joke, being, told, ,...    4.0    4.0   \n",
              "54828  (Most, people, would, probably, look, a, me, i...    4.0    4.0   \n",
              "54829  (Laughing, relieves, stress, ,, makes, other, ...    4.0    4.0   \n",
              "54830  (I, have, finally, learned, that, even, with, ...    4.0    4.0   \n",
              "\n",
              "       org_score  raw_score  \n",
              "54826          8   6.248613  \n",
              "54827          8   6.248613  \n",
              "54828          8   6.248613  \n",
              "54829          8   6.248613  \n",
              "54830          8   6.248613  "
            ]
          },
          "metadata": {
            "tags": []
          },
          "execution_count": 13
        }
      ]
    },
    {
      "cell_type": "code",
      "metadata": {
        "id": "Zp80DN0BXZyh",
        "colab_type": "code",
        "colab": {}
      },
      "source": [
        "score_df = sent_df.groupby('essay_id')[['org_score', 'raw_score']].mean()"
      ],
      "execution_count": 0,
      "outputs": []
    },
    {
      "cell_type": "code",
      "metadata": {
        "id": "4DU5rXI8Q5f-",
        "colab_type": "code",
        "outputId": "df131337-67de-4370-bbe3-010ec2ff2a51",
        "colab": {
          "base_uri": "https://localhost:8080/",
          "height": 426
        }
      },
      "source": [
        "cluster_indices = np.where(cluster_df.isna())\n",
        "drop_indices = [x for x in np.unique(cluster_indices[0])]\n",
        "drop_values = [cluster_df.index.values.tolist()[i] for i in drop_indices]\n",
        "drop_values"
      ],
      "execution_count": 15,
      "outputs": [
        {
          "output_type": "execute_result",
          "data": {
            "text/plain": [
              "[17992,\n",
              " 18088,\n",
              " 18109,\n",
              " 18149,\n",
              " 18152,\n",
              " 18167,\n",
              " 18348,\n",
              " 18426,\n",
              " 18481,\n",
              " 18496,\n",
              " 18504,\n",
              " 18535,\n",
              " 18885,\n",
              " 18958,\n",
              " 19010,\n",
              " 19131,\n",
              " 19149,\n",
              " 19358,\n",
              " 19472,\n",
              " 19492,\n",
              " 19497,\n",
              " 21389,\n",
              " 21619]"
            ]
          },
          "metadata": {
            "tags": []
          },
          "execution_count": 15
        }
      ]
    },
    {
      "cell_type": "code",
      "metadata": {
        "id": "Q3bAZYAsMuzK",
        "colab_type": "code",
        "colab": {}
      },
      "source": [
        "cluster_df = cluster_df.drop(drop_values, axis=0)\n",
        "score_df =  score_df.drop(drop_values, axis=0)"
      ],
      "execution_count": 0,
      "outputs": []
    },
    {
      "cell_type": "code",
      "metadata": {
        "id": "zzmUVyjl_puc",
        "colab_type": "code",
        "colab": {}
      },
      "source": [
        "cluster_train, cluster_test, cluster_labels_train, cluster_labels_test = train_test_split(cluster_df, score_df['org_score'])\n",
        "kmc = KMeans(n_clusters=11).fit(cluster_train)"
      ],
      "execution_count": 0,
      "outputs": []
    },
    {
      "cell_type": "code",
      "metadata": {
        "id": "HNQ_AxHSJ8IZ",
        "colab_type": "code",
        "outputId": "e4e3e580-c25d-43a4-d033-074bce35a3c5",
        "colab": {
          "base_uri": "https://localhost:8080/",
          "height": 513
        }
      },
      "source": [
        "cm = pd.crosstab(kmc.labels_+1, cluster_labels_train)\n",
        "plt.figure(figsize=(12,8))\n",
        "sns.heatmap(cm)\n",
        "plt.title('KMeans Clusters by Organization Scores')\n",
        "plt.ylabel('Clusters')\n",
        "plt.show()"
      ],
      "execution_count": 18,
      "outputs": [
        {
          "output_type": "display_data",
          "data": {
            "image/png": "[encoded data removed]",
            "text/plain": [
              "<Figure size 864x576 with 2 Axes>"
            ]
          },
          "metadata": {
            "tags": []
          }
        }
      ]
    },
    {
      "cell_type": "code",
      "metadata": {
        "id": "JWGK9yMEWkSE",
        "colab_type": "code",
        "colab": {
          "base_uri": "https://localhost:8080/",
          "height": 412
        },
        "outputId": "0ecb7377-4e29-4b2f-89e3-5e3f707a5665"
      },
      "source": [
        "cm"
      ],
      "execution_count": 19,
      "outputs": [
        {
          "output_type": "execute_result",
          "data": {
            "text/html": [
              "<div>\n",
              "<style scoped>\n",
              "    .dataframe tbody tr th:only-of-type {\n",
              "        vertical-align: middle;\n",
              "    }\n",
              "\n",
              "    .dataframe tbody tr th {\n",
              "        vertical-align: top;\n",
              "    }\n",
              "\n",
              "    .dataframe thead th {\n",
              "        text-align: right;\n",
              "    }\n",
              "</style>\n",
              "<table border=\"1\" class=\"dataframe\">\n",
              "  <thead>\n",
              "    <tr style=\"text-align: right;\">\n",
              "      <th>org_score</th>\n",
              "      <th>1</th>\n",
              "      <th>2</th>\n",
              "      <th>3</th>\n",
              "      <th>4</th>\n",
              "      <th>5</th>\n",
              "      <th>6</th>\n",
              "      <th>7</th>\n",
              "      <th>8</th>\n",
              "      <th>9</th>\n",
              "      <th>10</th>\n",
              "      <th>11</th>\n",
              "    </tr>\n",
              "    <tr>\n",
              "      <th>row_0</th>\n",
              "      <th></th>\n",
              "      <th></th>\n",
              "      <th></th>\n",
              "      <th></th>\n",
              "      <th></th>\n",
              "      <th></th>\n",
              "      <th></th>\n",
              "      <th></th>\n",
              "      <th></th>\n",
              "      <th></th>\n",
              "      <th></th>\n",
              "    </tr>\n",
              "  </thead>\n",
              "  <tbody>\n",
              "    <tr>\n",
              "      <th>1</th>\n",
              "      <td>0</td>\n",
              "      <td>0</td>\n",
              "      <td>0</td>\n",
              "      <td>17</td>\n",
              "      <td>16</td>\n",
              "      <td>8</td>\n",
              "      <td>38</td>\n",
              "      <td>55</td>\n",
              "      <td>6</td>\n",
              "      <td>31</td>\n",
              "      <td>0</td>\n",
              "    </tr>\n",
              "    <tr>\n",
              "      <th>2</th>\n",
              "      <td>0</td>\n",
              "      <td>2</td>\n",
              "      <td>0</td>\n",
              "      <td>21</td>\n",
              "      <td>33</td>\n",
              "      <td>15</td>\n",
              "      <td>82</td>\n",
              "      <td>66</td>\n",
              "      <td>15</td>\n",
              "      <td>28</td>\n",
              "      <td>1</td>\n",
              "    </tr>\n",
              "    <tr>\n",
              "      <th>3</th>\n",
              "      <td>0</td>\n",
              "      <td>0</td>\n",
              "      <td>0</td>\n",
              "      <td>2</td>\n",
              "      <td>3</td>\n",
              "      <td>8</td>\n",
              "      <td>19</td>\n",
              "      <td>26</td>\n",
              "      <td>3</td>\n",
              "      <td>8</td>\n",
              "      <td>0</td>\n",
              "    </tr>\n",
              "    <tr>\n",
              "      <th>4</th>\n",
              "      <td>0</td>\n",
              "      <td>0</td>\n",
              "      <td>0</td>\n",
              "      <td>1</td>\n",
              "      <td>3</td>\n",
              "      <td>0</td>\n",
              "      <td>16</td>\n",
              "      <td>17</td>\n",
              "      <td>0</td>\n",
              "      <td>18</td>\n",
              "      <td>0</td>\n",
              "    </tr>\n",
              "    <tr>\n",
              "      <th>5</th>\n",
              "      <td>0</td>\n",
              "      <td>0</td>\n",
              "      <td>0</td>\n",
              "      <td>24</td>\n",
              "      <td>27</td>\n",
              "      <td>16</td>\n",
              "      <td>74</td>\n",
              "      <td>59</td>\n",
              "      <td>7</td>\n",
              "      <td>37</td>\n",
              "      <td>0</td>\n",
              "    </tr>\n",
              "    <tr>\n",
              "      <th>6</th>\n",
              "      <td>0</td>\n",
              "      <td>1</td>\n",
              "      <td>0</td>\n",
              "      <td>19</td>\n",
              "      <td>26</td>\n",
              "      <td>26</td>\n",
              "      <td>74</td>\n",
              "      <td>70</td>\n",
              "      <td>12</td>\n",
              "      <td>18</td>\n",
              "      <td>0</td>\n",
              "    </tr>\n",
              "    <tr>\n",
              "      <th>7</th>\n",
              "      <td>0</td>\n",
              "      <td>0</td>\n",
              "      <td>0</td>\n",
              "      <td>15</td>\n",
              "      <td>15</td>\n",
              "      <td>1</td>\n",
              "      <td>13</td>\n",
              "      <td>7</td>\n",
              "      <td>1</td>\n",
              "      <td>1</td>\n",
              "      <td>0</td>\n",
              "    </tr>\n",
              "    <tr>\n",
              "      <th>8</th>\n",
              "      <td>0</td>\n",
              "      <td>0</td>\n",
              "      <td>0</td>\n",
              "      <td>19</td>\n",
              "      <td>30</td>\n",
              "      <td>18</td>\n",
              "      <td>42</td>\n",
              "      <td>38</td>\n",
              "      <td>6</td>\n",
              "      <td>8</td>\n",
              "      <td>0</td>\n",
              "    </tr>\n",
              "    <tr>\n",
              "      <th>9</th>\n",
              "      <td>0</td>\n",
              "      <td>4</td>\n",
              "      <td>1</td>\n",
              "      <td>24</td>\n",
              "      <td>23</td>\n",
              "      <td>9</td>\n",
              "      <td>83</td>\n",
              "      <td>66</td>\n",
              "      <td>8</td>\n",
              "      <td>19</td>\n",
              "      <td>1</td>\n",
              "    </tr>\n",
              "    <tr>\n",
              "      <th>10</th>\n",
              "      <td>0</td>\n",
              "      <td>0</td>\n",
              "      <td>0</td>\n",
              "      <td>16</td>\n",
              "      <td>18</td>\n",
              "      <td>1</td>\n",
              "      <td>36</td>\n",
              "      <td>35</td>\n",
              "      <td>1</td>\n",
              "      <td>28</td>\n",
              "      <td>0</td>\n",
              "    </tr>\n",
              "    <tr>\n",
              "      <th>11</th>\n",
              "      <td>1</td>\n",
              "      <td>1</td>\n",
              "      <td>0</td>\n",
              "      <td>8</td>\n",
              "      <td>8</td>\n",
              "      <td>0</td>\n",
              "      <td>15</td>\n",
              "      <td>16</td>\n",
              "      <td>0</td>\n",
              "      <td>17</td>\n",
              "      <td>0</td>\n",
              "    </tr>\n",
              "  </tbody>\n",
              "</table>\n",
              "</div>"
            ],
            "text/plain": [
              "org_score  1   2   3   4   5   6   7   8   9   10  11\n",
              "row_0                                                \n",
              "1           0   0   0  17  16   8  38  55   6  31   0\n",
              "2           0   2   0  21  33  15  82  66  15  28   1\n",
              "3           0   0   0   2   3   8  19  26   3   8   0\n",
              "4           0   0   0   1   3   0  16  17   0  18   0\n",
              "5           0   0   0  24  27  16  74  59   7  37   0\n",
              "6           0   1   0  19  26  26  74  70  12  18   0\n",
              "7           0   0   0  15  15   1  13   7   1   1   0\n",
              "8           0   0   0  19  30  18  42  38   6   8   0\n",
              "9           0   4   1  24  23   9  83  66   8  19   1\n",
              "10          0   0   0  16  18   1  36  35   1  28   0\n",
              "11          1   1   0   8   8   0  15  16   0  17   0"
            ]
          },
          "metadata": {
            "tags": []
          },
          "execution_count": 19
        }
      ]
    },
    {
      "cell_type": "code",
      "metadata": {
        "id": "P9rysWFY86DB",
        "colab_type": "code",
        "colab": {
          "base_uri": "https://localhost:8080/",
          "height": 35
        },
        "outputId": "a4066e23-e6b1-42b4-d00f-8e1b2288841a"
      },
      "source": [
        "rc_dict  = {8:6, 5:7, 4:9, 1:4, 7:3, 2:5, 0:8, 10:1}\n",
        "\n",
        "acc = np.sum([cm.iloc[k, v] for k,v in rc_dict.items()]) / np.sum(cm.sum())\n",
        "print('Clustering model train accuracy: {}'.format(acc))"
      ],
      "execution_count": 20,
      "outputs": [
        {
          "output_type": "stream",
          "text": [
            "Clustering model train accuracy: 0.15108759553204\n"
          ],
          "name": "stdout"
        }
      ]
    },
    {
      "cell_type": "code",
      "metadata": {
        "id": "MZDpzXRrakH7",
        "colab_type": "code",
        "colab": {
          "base_uri": "https://localhost:8080/",
          "height": 412
        },
        "outputId": "190d0286-33a2-4d1f-b59b-bc101870a22c"
      },
      "source": [
        "cluster_pred = kmc.predict(cluster_test)\n",
        "cluster_test_cm = pd.crosstab(cluster_pred, cluster_labels_test)\n",
        "cluster_test_cm"
      ],
      "execution_count": 21,
      "outputs": [
        {
          "output_type": "execute_result",
          "data": {
            "text/html": [
              "<div>\n",
              "<style scoped>\n",
              "    .dataframe tbody tr th:only-of-type {\n",
              "        vertical-align: middle;\n",
              "    }\n",
              "\n",
              "    .dataframe tbody tr th {\n",
              "        vertical-align: top;\n",
              "    }\n",
              "\n",
              "    .dataframe thead th {\n",
              "        text-align: right;\n",
              "    }\n",
              "</style>\n",
              "<table border=\"1\" class=\"dataframe\">\n",
              "  <thead>\n",
              "    <tr style=\"text-align: right;\">\n",
              "      <th>org_score</th>\n",
              "      <th>2</th>\n",
              "      <th>4</th>\n",
              "      <th>5</th>\n",
              "      <th>6</th>\n",
              "      <th>7</th>\n",
              "      <th>8</th>\n",
              "      <th>9</th>\n",
              "      <th>10</th>\n",
              "      <th>11</th>\n",
              "      <th>12</th>\n",
              "    </tr>\n",
              "    <tr>\n",
              "      <th>row_0</th>\n",
              "      <th></th>\n",
              "      <th></th>\n",
              "      <th></th>\n",
              "      <th></th>\n",
              "      <th></th>\n",
              "      <th></th>\n",
              "      <th></th>\n",
              "      <th></th>\n",
              "      <th></th>\n",
              "      <th></th>\n",
              "    </tr>\n",
              "  </thead>\n",
              "  <tbody>\n",
              "    <tr>\n",
              "      <th>0</th>\n",
              "      <td>0</td>\n",
              "      <td>5</td>\n",
              "      <td>9</td>\n",
              "      <td>1</td>\n",
              "      <td>15</td>\n",
              "      <td>11</td>\n",
              "      <td>2</td>\n",
              "      <td>7</td>\n",
              "      <td>0</td>\n",
              "      <td>0</td>\n",
              "    </tr>\n",
              "    <tr>\n",
              "      <th>1</th>\n",
              "      <td>0</td>\n",
              "      <td>9</td>\n",
              "      <td>7</td>\n",
              "      <td>4</td>\n",
              "      <td>32</td>\n",
              "      <td>31</td>\n",
              "      <td>4</td>\n",
              "      <td>12</td>\n",
              "      <td>0</td>\n",
              "      <td>0</td>\n",
              "    </tr>\n",
              "    <tr>\n",
              "      <th>2</th>\n",
              "      <td>0</td>\n",
              "      <td>0</td>\n",
              "      <td>1</td>\n",
              "      <td>1</td>\n",
              "      <td>4</td>\n",
              "      <td>3</td>\n",
              "      <td>1</td>\n",
              "      <td>2</td>\n",
              "      <td>0</td>\n",
              "      <td>0</td>\n",
              "    </tr>\n",
              "    <tr>\n",
              "      <th>3</th>\n",
              "      <td>0</td>\n",
              "      <td>0</td>\n",
              "      <td>1</td>\n",
              "      <td>0</td>\n",
              "      <td>5</td>\n",
              "      <td>3</td>\n",
              "      <td>1</td>\n",
              "      <td>2</td>\n",
              "      <td>0</td>\n",
              "      <td>0</td>\n",
              "    </tr>\n",
              "    <tr>\n",
              "      <th>4</th>\n",
              "      <td>0</td>\n",
              "      <td>4</td>\n",
              "      <td>15</td>\n",
              "      <td>4</td>\n",
              "      <td>22</td>\n",
              "      <td>22</td>\n",
              "      <td>7</td>\n",
              "      <td>8</td>\n",
              "      <td>0</td>\n",
              "      <td>1</td>\n",
              "    </tr>\n",
              "    <tr>\n",
              "      <th>5</th>\n",
              "      <td>1</td>\n",
              "      <td>11</td>\n",
              "      <td>8</td>\n",
              "      <td>7</td>\n",
              "      <td>29</td>\n",
              "      <td>27</td>\n",
              "      <td>3</td>\n",
              "      <td>6</td>\n",
              "      <td>0</td>\n",
              "      <td>0</td>\n",
              "    </tr>\n",
              "    <tr>\n",
              "      <th>6</th>\n",
              "      <td>0</td>\n",
              "      <td>4</td>\n",
              "      <td>0</td>\n",
              "      <td>0</td>\n",
              "      <td>8</td>\n",
              "      <td>1</td>\n",
              "      <td>0</td>\n",
              "      <td>1</td>\n",
              "      <td>0</td>\n",
              "      <td>0</td>\n",
              "    </tr>\n",
              "    <tr>\n",
              "      <th>7</th>\n",
              "      <td>0</td>\n",
              "      <td>6</td>\n",
              "      <td>12</td>\n",
              "      <td>3</td>\n",
              "      <td>16</td>\n",
              "      <td>15</td>\n",
              "      <td>6</td>\n",
              "      <td>1</td>\n",
              "      <td>1</td>\n",
              "      <td>0</td>\n",
              "    </tr>\n",
              "    <tr>\n",
              "      <th>8</th>\n",
              "      <td>0</td>\n",
              "      <td>3</td>\n",
              "      <td>8</td>\n",
              "      <td>5</td>\n",
              "      <td>30</td>\n",
              "      <td>28</td>\n",
              "      <td>3</td>\n",
              "      <td>9</td>\n",
              "      <td>0</td>\n",
              "      <td>0</td>\n",
              "    </tr>\n",
              "    <tr>\n",
              "      <th>9</th>\n",
              "      <td>0</td>\n",
              "      <td>1</td>\n",
              "      <td>5</td>\n",
              "      <td>1</td>\n",
              "      <td>11</td>\n",
              "      <td>11</td>\n",
              "      <td>1</td>\n",
              "      <td>7</td>\n",
              "      <td>0</td>\n",
              "      <td>0</td>\n",
              "    </tr>\n",
              "    <tr>\n",
              "      <th>10</th>\n",
              "      <td>0</td>\n",
              "      <td>3</td>\n",
              "      <td>3</td>\n",
              "      <td>1</td>\n",
              "      <td>6</td>\n",
              "      <td>7</td>\n",
              "      <td>0</td>\n",
              "      <td>3</td>\n",
              "      <td>0</td>\n",
              "      <td>0</td>\n",
              "    </tr>\n",
              "  </tbody>\n",
              "</table>\n",
              "</div>"
            ],
            "text/plain": [
              "org_score  2   4   5   6   7   8   9   10  11  12\n",
              "row_0                                            \n",
              "0           0   5   9   1  15  11   2   7   0   0\n",
              "1           0   9   7   4  32  31   4  12   0   0\n",
              "2           0   0   1   1   4   3   1   2   0   0\n",
              "3           0   0   1   0   5   3   1   2   0   0\n",
              "4           0   4  15   4  22  22   7   8   0   1\n",
              "5           1  11   8   7  29  27   3   6   0   0\n",
              "6           0   4   0   0   8   1   0   1   0   0\n",
              "7           0   6  12   3  16  15   6   1   1   0\n",
              "8           0   3   8   5  30  28   3   9   0   0\n",
              "9           0   1   5   1  11  11   1   7   0   0\n",
              "10          0   3   3   1   6   7   0   3   0   0"
            ]
          },
          "metadata": {
            "tags": []
          },
          "execution_count": 21
        }
      ]
    },
    {
      "cell_type": "code",
      "metadata": {
        "id": "834_XNu6aoEV",
        "colab_type": "code",
        "colab": {
          "base_uri": "https://localhost:8080/",
          "height": 35
        },
        "outputId": "3a442a06-db9c-40db-a916-7da45daa2ed2"
      },
      "source": [
        "clrtst_rc_dict = {1:4, 8:5, 4:2, 5:1, 7:3, 9:7, 0:6}\n",
        "\n",
        "clrtst_acc = np.sum([cluster_test_cm.iloc[k, v] \n",
        "                     for k,v in clrtst_rc_dict.items()]) / np.sum(cluster_test_cm.sum())\n",
        "print('Clustering model test accuracy: {}'.format(clrtst_acc))"
      ],
      "execution_count": 22,
      "outputs": [
        {
          "output_type": "stream",
          "text": [
            "Clustering model test accuracy: 0.17253521126760563\n"
          ],
          "name": "stdout"
        }
      ]
    },
    {
      "cell_type": "code",
      "metadata": {
        "id": "qRffmVYqqLHL",
        "colab_type": "code",
        "colab": {}
      },
      "source": [
        "bw = estimate_bandwidth(cluster_train)\n",
        "ms = MeanShift(bandwidth=bw).fit(cluster_train)"
      ],
      "execution_count": 0,
      "outputs": []
    },
    {
      "cell_type": "code",
      "metadata": {
        "id": "JE8Ml7iAqMA4",
        "colab_type": "code",
        "colab": {
          "base_uri": "https://localhost:8080/",
          "height": 838
        },
        "outputId": "c96004bc-e326-496a-dd28-2710829bda59"
      },
      "source": [
        "ms_pred = ms.predict(cluster_test)\n",
        "ms_test_cm = pd.crosstab(ms_pred, cluster_labels_test)\n",
        "ms_test_cm"
      ],
      "execution_count": 25,
      "outputs": [
        {
          "output_type": "execute_result",
          "data": {
            "text/html": [
              "<div>\n",
              "<style scoped>\n",
              "    .dataframe tbody tr th:only-of-type {\n",
              "        vertical-align: middle;\n",
              "    }\n",
              "\n",
              "    .dataframe tbody tr th {\n",
              "        vertical-align: top;\n",
              "    }\n",
              "\n",
              "    .dataframe thead th {\n",
              "        text-align: right;\n",
              "    }\n",
              "</style>\n",
              "<table border=\"1\" class=\"dataframe\">\n",
              "  <thead>\n",
              "    <tr style=\"text-align: right;\">\n",
              "      <th>org_score</th>\n",
              "      <th>2</th>\n",
              "      <th>4</th>\n",
              "      <th>5</th>\n",
              "      <th>6</th>\n",
              "      <th>7</th>\n",
              "      <th>8</th>\n",
              "      <th>9</th>\n",
              "      <th>10</th>\n",
              "      <th>11</th>\n",
              "      <th>12</th>\n",
              "    </tr>\n",
              "    <tr>\n",
              "      <th>row_0</th>\n",
              "      <th></th>\n",
              "      <th></th>\n",
              "      <th></th>\n",
              "      <th></th>\n",
              "      <th></th>\n",
              "      <th></th>\n",
              "      <th></th>\n",
              "      <th></th>\n",
              "      <th></th>\n",
              "      <th></th>\n",
              "    </tr>\n",
              "  </thead>\n",
              "  <tbody>\n",
              "    <tr>\n",
              "      <th>0</th>\n",
              "      <td>1</td>\n",
              "      <td>41</td>\n",
              "      <td>59</td>\n",
              "      <td>24</td>\n",
              "      <td>154</td>\n",
              "      <td>134</td>\n",
              "      <td>23</td>\n",
              "      <td>44</td>\n",
              "      <td>1</td>\n",
              "      <td>1</td>\n",
              "    </tr>\n",
              "    <tr>\n",
              "      <th>13</th>\n",
              "      <td>0</td>\n",
              "      <td>0</td>\n",
              "      <td>0</td>\n",
              "      <td>0</td>\n",
              "      <td>0</td>\n",
              "      <td>2</td>\n",
              "      <td>0</td>\n",
              "      <td>0</td>\n",
              "      <td>0</td>\n",
              "      <td>0</td>\n",
              "    </tr>\n",
              "    <tr>\n",
              "      <th>21</th>\n",
              "      <td>0</td>\n",
              "      <td>0</td>\n",
              "      <td>4</td>\n",
              "      <td>0</td>\n",
              "      <td>7</td>\n",
              "      <td>3</td>\n",
              "      <td>1</td>\n",
              "      <td>4</td>\n",
              "      <td>0</td>\n",
              "      <td>0</td>\n",
              "    </tr>\n",
              "    <tr>\n",
              "      <th>30</th>\n",
              "      <td>0</td>\n",
              "      <td>0</td>\n",
              "      <td>0</td>\n",
              "      <td>0</td>\n",
              "      <td>4</td>\n",
              "      <td>4</td>\n",
              "      <td>0</td>\n",
              "      <td>1</td>\n",
              "      <td>0</td>\n",
              "      <td>0</td>\n",
              "    </tr>\n",
              "    <tr>\n",
              "      <th>32</th>\n",
              "      <td>0</td>\n",
              "      <td>1</td>\n",
              "      <td>1</td>\n",
              "      <td>0</td>\n",
              "      <td>0</td>\n",
              "      <td>0</td>\n",
              "      <td>0</td>\n",
              "      <td>0</td>\n",
              "      <td>0</td>\n",
              "      <td>0</td>\n",
              "    </tr>\n",
              "    <tr>\n",
              "      <th>35</th>\n",
              "      <td>0</td>\n",
              "      <td>0</td>\n",
              "      <td>0</td>\n",
              "      <td>0</td>\n",
              "      <td>0</td>\n",
              "      <td>2</td>\n",
              "      <td>0</td>\n",
              "      <td>0</td>\n",
              "      <td>0</td>\n",
              "      <td>0</td>\n",
              "    </tr>\n",
              "    <tr>\n",
              "      <th>58</th>\n",
              "      <td>0</td>\n",
              "      <td>0</td>\n",
              "      <td>0</td>\n",
              "      <td>0</td>\n",
              "      <td>1</td>\n",
              "      <td>0</td>\n",
              "      <td>0</td>\n",
              "      <td>1</td>\n",
              "      <td>0</td>\n",
              "      <td>0</td>\n",
              "    </tr>\n",
              "    <tr>\n",
              "      <th>71</th>\n",
              "      <td>0</td>\n",
              "      <td>0</td>\n",
              "      <td>0</td>\n",
              "      <td>0</td>\n",
              "      <td>0</td>\n",
              "      <td>0</td>\n",
              "      <td>1</td>\n",
              "      <td>0</td>\n",
              "      <td>0</td>\n",
              "      <td>0</td>\n",
              "    </tr>\n",
              "    <tr>\n",
              "      <th>76</th>\n",
              "      <td>0</td>\n",
              "      <td>1</td>\n",
              "      <td>1</td>\n",
              "      <td>0</td>\n",
              "      <td>2</td>\n",
              "      <td>1</td>\n",
              "      <td>1</td>\n",
              "      <td>1</td>\n",
              "      <td>0</td>\n",
              "      <td>0</td>\n",
              "    </tr>\n",
              "    <tr>\n",
              "      <th>89</th>\n",
              "      <td>0</td>\n",
              "      <td>0</td>\n",
              "      <td>0</td>\n",
              "      <td>0</td>\n",
              "      <td>0</td>\n",
              "      <td>0</td>\n",
              "      <td>0</td>\n",
              "      <td>1</td>\n",
              "      <td>0</td>\n",
              "      <td>0</td>\n",
              "    </tr>\n",
              "    <tr>\n",
              "      <th>92</th>\n",
              "      <td>0</td>\n",
              "      <td>0</td>\n",
              "      <td>0</td>\n",
              "      <td>1</td>\n",
              "      <td>1</td>\n",
              "      <td>1</td>\n",
              "      <td>0</td>\n",
              "      <td>0</td>\n",
              "      <td>0</td>\n",
              "      <td>0</td>\n",
              "    </tr>\n",
              "    <tr>\n",
              "      <th>93</th>\n",
              "      <td>0</td>\n",
              "      <td>0</td>\n",
              "      <td>0</td>\n",
              "      <td>0</td>\n",
              "      <td>1</td>\n",
              "      <td>1</td>\n",
              "      <td>0</td>\n",
              "      <td>1</td>\n",
              "      <td>0</td>\n",
              "      <td>0</td>\n",
              "    </tr>\n",
              "    <tr>\n",
              "      <th>98</th>\n",
              "      <td>0</td>\n",
              "      <td>1</td>\n",
              "      <td>1</td>\n",
              "      <td>0</td>\n",
              "      <td>1</td>\n",
              "      <td>3</td>\n",
              "      <td>0</td>\n",
              "      <td>0</td>\n",
              "      <td>0</td>\n",
              "      <td>0</td>\n",
              "    </tr>\n",
              "    <tr>\n",
              "      <th>104</th>\n",
              "      <td>0</td>\n",
              "      <td>0</td>\n",
              "      <td>0</td>\n",
              "      <td>1</td>\n",
              "      <td>0</td>\n",
              "      <td>1</td>\n",
              "      <td>0</td>\n",
              "      <td>0</td>\n",
              "      <td>0</td>\n",
              "      <td>0</td>\n",
              "    </tr>\n",
              "    <tr>\n",
              "      <th>112</th>\n",
              "      <td>0</td>\n",
              "      <td>0</td>\n",
              "      <td>0</td>\n",
              "      <td>0</td>\n",
              "      <td>2</td>\n",
              "      <td>0</td>\n",
              "      <td>0</td>\n",
              "      <td>0</td>\n",
              "      <td>0</td>\n",
              "      <td>0</td>\n",
              "    </tr>\n",
              "    <tr>\n",
              "      <th>120</th>\n",
              "      <td>0</td>\n",
              "      <td>0</td>\n",
              "      <td>1</td>\n",
              "      <td>0</td>\n",
              "      <td>0</td>\n",
              "      <td>0</td>\n",
              "      <td>0</td>\n",
              "      <td>0</td>\n",
              "      <td>0</td>\n",
              "      <td>0</td>\n",
              "    </tr>\n",
              "    <tr>\n",
              "      <th>121</th>\n",
              "      <td>0</td>\n",
              "      <td>1</td>\n",
              "      <td>1</td>\n",
              "      <td>0</td>\n",
              "      <td>0</td>\n",
              "      <td>1</td>\n",
              "      <td>0</td>\n",
              "      <td>2</td>\n",
              "      <td>0</td>\n",
              "      <td>0</td>\n",
              "    </tr>\n",
              "    <tr>\n",
              "      <th>131</th>\n",
              "      <td>0</td>\n",
              "      <td>0</td>\n",
              "      <td>0</td>\n",
              "      <td>0</td>\n",
              "      <td>1</td>\n",
              "      <td>0</td>\n",
              "      <td>0</td>\n",
              "      <td>0</td>\n",
              "      <td>0</td>\n",
              "      <td>0</td>\n",
              "    </tr>\n",
              "    <tr>\n",
              "      <th>149</th>\n",
              "      <td>0</td>\n",
              "      <td>0</td>\n",
              "      <td>0</td>\n",
              "      <td>1</td>\n",
              "      <td>0</td>\n",
              "      <td>0</td>\n",
              "      <td>0</td>\n",
              "      <td>0</td>\n",
              "      <td>0</td>\n",
              "      <td>0</td>\n",
              "    </tr>\n",
              "    <tr>\n",
              "      <th>159</th>\n",
              "      <td>0</td>\n",
              "      <td>0</td>\n",
              "      <td>0</td>\n",
              "      <td>0</td>\n",
              "      <td>0</td>\n",
              "      <td>1</td>\n",
              "      <td>0</td>\n",
              "      <td>0</td>\n",
              "      <td>0</td>\n",
              "      <td>0</td>\n",
              "    </tr>\n",
              "    <tr>\n",
              "      <th>169</th>\n",
              "      <td>0</td>\n",
              "      <td>0</td>\n",
              "      <td>0</td>\n",
              "      <td>0</td>\n",
              "      <td>0</td>\n",
              "      <td>1</td>\n",
              "      <td>0</td>\n",
              "      <td>2</td>\n",
              "      <td>0</td>\n",
              "      <td>0</td>\n",
              "    </tr>\n",
              "    <tr>\n",
              "      <th>171</th>\n",
              "      <td>0</td>\n",
              "      <td>0</td>\n",
              "      <td>0</td>\n",
              "      <td>0</td>\n",
              "      <td>2</td>\n",
              "      <td>2</td>\n",
              "      <td>0</td>\n",
              "      <td>0</td>\n",
              "      <td>0</td>\n",
              "      <td>0</td>\n",
              "    </tr>\n",
              "    <tr>\n",
              "      <th>174</th>\n",
              "      <td>0</td>\n",
              "      <td>0</td>\n",
              "      <td>0</td>\n",
              "      <td>0</td>\n",
              "      <td>0</td>\n",
              "      <td>0</td>\n",
              "      <td>1</td>\n",
              "      <td>0</td>\n",
              "      <td>0</td>\n",
              "      <td>0</td>\n",
              "    </tr>\n",
              "    <tr>\n",
              "      <th>182</th>\n",
              "      <td>0</td>\n",
              "      <td>0</td>\n",
              "      <td>0</td>\n",
              "      <td>0</td>\n",
              "      <td>1</td>\n",
              "      <td>1</td>\n",
              "      <td>1</td>\n",
              "      <td>0</td>\n",
              "      <td>0</td>\n",
              "      <td>0</td>\n",
              "    </tr>\n",
              "    <tr>\n",
              "      <th>184</th>\n",
              "      <td>0</td>\n",
              "      <td>1</td>\n",
              "      <td>1</td>\n",
              "      <td>0</td>\n",
              "      <td>1</td>\n",
              "      <td>1</td>\n",
              "      <td>0</td>\n",
              "      <td>1</td>\n",
              "      <td>0</td>\n",
              "      <td>0</td>\n",
              "    </tr>\n",
              "  </tbody>\n",
              "</table>\n",
              "</div>"
            ],
            "text/plain": [
              "org_score  2   4   5   6    7    8   9   10  11  12\n",
              "row_0                                              \n",
              "0           1  41  59  24  154  134  23  44   1   1\n",
              "13          0   0   0   0    0    2   0   0   0   0\n",
              "21          0   0   4   0    7    3   1   4   0   0\n",
              "30          0   0   0   0    4    4   0   1   0   0\n",
              "32          0   1   1   0    0    0   0   0   0   0\n",
              "35          0   0   0   0    0    2   0   0   0   0\n",
              "58          0   0   0   0    1    0   0   1   0   0\n",
              "71          0   0   0   0    0    0   1   0   0   0\n",
              "76          0   1   1   0    2    1   1   1   0   0\n",
              "89          0   0   0   0    0    0   0   1   0   0\n",
              "92          0   0   0   1    1    1   0   0   0   0\n",
              "93          0   0   0   0    1    1   0   1   0   0\n",
              "98          0   1   1   0    1    3   0   0   0   0\n",
              "104         0   0   0   1    0    1   0   0   0   0\n",
              "112         0   0   0   0    2    0   0   0   0   0\n",
              "120         0   0   1   0    0    0   0   0   0   0\n",
              "121         0   1   1   0    0    1   0   2   0   0\n",
              "131         0   0   0   0    1    0   0   0   0   0\n",
              "149         0   0   0   1    0    0   0   0   0   0\n",
              "159         0   0   0   0    0    1   0   0   0   0\n",
              "169         0   0   0   0    0    1   0   2   0   0\n",
              "171         0   0   0   0    2    2   0   0   0   0\n",
              "174         0   0   0   0    0    0   1   0   0   0\n",
              "182         0   0   0   0    1    1   1   0   0   0\n",
              "184         0   1   1   0    1    1   0   1   0   0"
            ]
          },
          "metadata": {
            "tags": []
          },
          "execution_count": 25
        }
      ]
    },
    {
      "cell_type": "code",
      "metadata": {
        "id": "5rtgl3PHqMXL",
        "colab_type": "code",
        "colab": {
          "base_uri": "https://localhost:8080/",
          "height": 35
        },
        "outputId": "08cd8f11-c362-4a7d-b743-a4d6718aac0c"
      },
      "source": [
        "ms_test_cm.iloc[0, 4] / np.sum(ms_test_cm.sum())"
      ],
      "execution_count": 27,
      "outputs": [
        {
          "output_type": "execute_result",
          "data": {
            "text/plain": [
              "0.2711267605633803"
            ]
          },
          "metadata": {
            "tags": []
          },
          "execution_count": 27
        }
      ]
    },
    {
      "cell_type": "code",
      "metadata": {
        "id": "bNqDW0WnqNyB",
        "colab_type": "code",
        "colab": {}
      },
      "source": [
        "sc = SpectralClustering(n_clusters=11).fit(cluster_train)"
      ],
      "execution_count": 0,
      "outputs": []
    },
    {
      "cell_type": "code",
      "metadata": {
        "id": "-iXHunnmqOUX",
        "colab_type": "code",
        "colab": {
          "base_uri": "https://localhost:8080/",
          "height": 412
        },
        "outputId": "c9dd0f40-03c0-46e2-f84c-a2e0ede05336"
      },
      "source": [
        "sc_pred = sc.fit_predict(cluster_test)\n",
        "sc_test_cm = pd.crosstab(sc_pred, cluster_labels_test)\n",
        "sc_test_cm"
      ],
      "execution_count": 31,
      "outputs": [
        {
          "output_type": "execute_result",
          "data": {
            "text/html": [
              "<div>\n",
              "<style scoped>\n",
              "    .dataframe tbody tr th:only-of-type {\n",
              "        vertical-align: middle;\n",
              "    }\n",
              "\n",
              "    .dataframe tbody tr th {\n",
              "        vertical-align: top;\n",
              "    }\n",
              "\n",
              "    .dataframe thead th {\n",
              "        text-align: right;\n",
              "    }\n",
              "</style>\n",
              "<table border=\"1\" class=\"dataframe\">\n",
              "  <thead>\n",
              "    <tr style=\"text-align: right;\">\n",
              "      <th>org_score</th>\n",
              "      <th>2</th>\n",
              "      <th>4</th>\n",
              "      <th>5</th>\n",
              "      <th>6</th>\n",
              "      <th>7</th>\n",
              "      <th>8</th>\n",
              "      <th>9</th>\n",
              "      <th>10</th>\n",
              "      <th>11</th>\n",
              "      <th>12</th>\n",
              "    </tr>\n",
              "    <tr>\n",
              "      <th>row_0</th>\n",
              "      <th></th>\n",
              "      <th></th>\n",
              "      <th></th>\n",
              "      <th></th>\n",
              "      <th></th>\n",
              "      <th></th>\n",
              "      <th></th>\n",
              "      <th></th>\n",
              "      <th></th>\n",
              "      <th></th>\n",
              "    </tr>\n",
              "  </thead>\n",
              "  <tbody>\n",
              "    <tr>\n",
              "      <th>0</th>\n",
              "      <td>1</td>\n",
              "      <td>39</td>\n",
              "      <td>52</td>\n",
              "      <td>24</td>\n",
              "      <td>138</td>\n",
              "      <td>126</td>\n",
              "      <td>24</td>\n",
              "      <td>39</td>\n",
              "      <td>1</td>\n",
              "      <td>1</td>\n",
              "    </tr>\n",
              "    <tr>\n",
              "      <th>1</th>\n",
              "      <td>0</td>\n",
              "      <td>1</td>\n",
              "      <td>0</td>\n",
              "      <td>0</td>\n",
              "      <td>0</td>\n",
              "      <td>2</td>\n",
              "      <td>0</td>\n",
              "      <td>2</td>\n",
              "      <td>0</td>\n",
              "      <td>0</td>\n",
              "    </tr>\n",
              "    <tr>\n",
              "      <th>2</th>\n",
              "      <td>0</td>\n",
              "      <td>0</td>\n",
              "      <td>0</td>\n",
              "      <td>0</td>\n",
              "      <td>1</td>\n",
              "      <td>1</td>\n",
              "      <td>0</td>\n",
              "      <td>1</td>\n",
              "      <td>0</td>\n",
              "      <td>0</td>\n",
              "    </tr>\n",
              "    <tr>\n",
              "      <th>3</th>\n",
              "      <td>0</td>\n",
              "      <td>2</td>\n",
              "      <td>3</td>\n",
              "      <td>2</td>\n",
              "      <td>10</td>\n",
              "      <td>6</td>\n",
              "      <td>1</td>\n",
              "      <td>4</td>\n",
              "      <td>0</td>\n",
              "      <td>0</td>\n",
              "    </tr>\n",
              "    <tr>\n",
              "      <th>4</th>\n",
              "      <td>0</td>\n",
              "      <td>2</td>\n",
              "      <td>1</td>\n",
              "      <td>0</td>\n",
              "      <td>0</td>\n",
              "      <td>1</td>\n",
              "      <td>0</td>\n",
              "      <td>0</td>\n",
              "      <td>0</td>\n",
              "      <td>0</td>\n",
              "    </tr>\n",
              "    <tr>\n",
              "      <th>5</th>\n",
              "      <td>0</td>\n",
              "      <td>0</td>\n",
              "      <td>2</td>\n",
              "      <td>1</td>\n",
              "      <td>3</td>\n",
              "      <td>2</td>\n",
              "      <td>0</td>\n",
              "      <td>0</td>\n",
              "      <td>0</td>\n",
              "      <td>0</td>\n",
              "    </tr>\n",
              "    <tr>\n",
              "      <th>6</th>\n",
              "      <td>0</td>\n",
              "      <td>0</td>\n",
              "      <td>0</td>\n",
              "      <td>0</td>\n",
              "      <td>4</td>\n",
              "      <td>3</td>\n",
              "      <td>0</td>\n",
              "      <td>2</td>\n",
              "      <td>0</td>\n",
              "      <td>0</td>\n",
              "    </tr>\n",
              "    <tr>\n",
              "      <th>7</th>\n",
              "      <td>0</td>\n",
              "      <td>0</td>\n",
              "      <td>2</td>\n",
              "      <td>0</td>\n",
              "      <td>2</td>\n",
              "      <td>2</td>\n",
              "      <td>1</td>\n",
              "      <td>1</td>\n",
              "      <td>0</td>\n",
              "      <td>0</td>\n",
              "    </tr>\n",
              "    <tr>\n",
              "      <th>8</th>\n",
              "      <td>0</td>\n",
              "      <td>0</td>\n",
              "      <td>1</td>\n",
              "      <td>0</td>\n",
              "      <td>2</td>\n",
              "      <td>1</td>\n",
              "      <td>0</td>\n",
              "      <td>2</td>\n",
              "      <td>0</td>\n",
              "      <td>0</td>\n",
              "    </tr>\n",
              "    <tr>\n",
              "      <th>9</th>\n",
              "      <td>0</td>\n",
              "      <td>2</td>\n",
              "      <td>8</td>\n",
              "      <td>0</td>\n",
              "      <td>17</td>\n",
              "      <td>15</td>\n",
              "      <td>2</td>\n",
              "      <td>7</td>\n",
              "      <td>0</td>\n",
              "      <td>0</td>\n",
              "    </tr>\n",
              "    <tr>\n",
              "      <th>10</th>\n",
              "      <td>0</td>\n",
              "      <td>0</td>\n",
              "      <td>0</td>\n",
              "      <td>0</td>\n",
              "      <td>1</td>\n",
              "      <td>0</td>\n",
              "      <td>0</td>\n",
              "      <td>0</td>\n",
              "      <td>0</td>\n",
              "      <td>0</td>\n",
              "    </tr>\n",
              "  </tbody>\n",
              "</table>\n",
              "</div>"
            ],
            "text/plain": [
              "org_score  2   4   5   6    7    8   9   10  11  12\n",
              "row_0                                              \n",
              "0           1  39  52  24  138  126  24  39   1   1\n",
              "1           0   1   0   0    0    2   0   2   0   0\n",
              "2           0   0   0   0    1    1   0   1   0   0\n",
              "3           0   2   3   2   10    6   1   4   0   0\n",
              "4           0   2   1   0    0    1   0   0   0   0\n",
              "5           0   0   2   1    3    2   0   0   0   0\n",
              "6           0   0   0   0    4    3   0   2   0   0\n",
              "7           0   0   2   0    2    2   1   1   0   0\n",
              "8           0   0   1   0    2    1   0   2   0   0\n",
              "9           0   2   8   0   17   15   2   7   0   0\n",
              "10          0   0   0   0    1    0   0   0   0   0"
            ]
          },
          "metadata": {
            "tags": []
          },
          "execution_count": 31
        }
      ]
    },
    {
      "cell_type": "code",
      "metadata": {
        "id": "RJ2QXXjDqOlN",
        "colab_type": "code",
        "colab": {
          "base_uri": "https://localhost:8080/",
          "height": 35
        },
        "outputId": "4a6fa1c2-d705-4400-ba56-33b4355b3302"
      },
      "source": [
        "160 / np.sum(sc_test_cm.sum())"
      ],
      "execution_count": 32,
      "outputs": [
        {
          "output_type": "execute_result",
          "data": {
            "text/plain": [
              "0.28169014084507044"
            ]
          },
          "metadata": {
            "tags": []
          },
          "execution_count": 32
        }
      ]
    },
    {
      "cell_type": "code",
      "metadata": {
        "id": "46bUsyzlMZY6",
        "colab_type": "code",
        "outputId": "d8550f71-f39e-42f7-db78-0265db801d08",
        "colab": {
          "base_uri": "https://localhost:8080/",
          "height": 70
        }
      },
      "source": [
        "lgr = LogisticRegression(solver='lbfgs', C=0.2, multi_class='multinomial')\n",
        "\n",
        "X_train, X_test, y_train, y_test = train_test_split(\n",
        "    np.array(score_df['raw_score']).reshape(-1, 1), \n",
        "    score_df['org_score'], test_size=0.3)\n",
        "\n",
        "lgr.fit(X_train, y_train)\n",
        "\n",
        "pred = lgr.predict(X_test)\n",
        "lgr_cm = pd.crosstab(pred, y_test)\n",
        "\n",
        "lgr.score(X_train, y_train)"
      ],
      "execution_count": 33,
      "outputs": [
        {
          "output_type": "stream",
          "text": [
            "/usr/local/lib/python3.6/dist-packages/sklearn/linear_model/logistic.py:758: ConvergenceWarning: lbfgs failed to converge. Increase the number of iterations.\n",
            "  \"of iterations.\", ConvergenceWarning)\n"
          ],
          "name": "stderr"
        },
        {
          "output_type": "execute_result",
          "data": {
            "text/plain": [
              "0.3992443324937028"
            ]
          },
          "metadata": {
            "tags": []
          },
          "execution_count": 33
        }
      ]
    },
    {
      "cell_type": "code",
      "metadata": {
        "id": "w1o9wSqFOsQq",
        "colab_type": "code",
        "colab": {
          "base_uri": "https://localhost:8080/",
          "height": 35
        },
        "outputId": "c898793f-7325-4ff3-f0e3-d2a1a2ca8d93"
      },
      "source": [
        "lgr_acc = []\n",
        "for row in lgr_cm.index.tolist():\n",
        "  lgr_acc.append(lgr_cm.loc[row, row])\n",
        "lgr_acc = np.sum(lgr_acc) / np.sum(lgr_cm.sum())\n",
        "lgr_acc"
      ],
      "execution_count": 34,
      "outputs": [
        {
          "output_type": "execute_result",
          "data": {
            "text/plain": [
              "0.3568281938325991"
            ]
          },
          "metadata": {
            "tags": []
          },
          "execution_count": 34
        }
      ]
    },
    {
      "cell_type": "code",
      "metadata": {
        "id": "_irSa4b4knk1",
        "colab_type": "code",
        "outputId": "69fa7405-23a0-41f8-c496-879f7297ed6d",
        "colab": {
          "base_uri": "https://localhost:8080/",
          "height": 35
        }
      },
      "source": [
        "rfc  = RandomForestClassifier(n_estimators=100, criterion='entropy')\n",
        "rfc.fit(X_train, y_train)\n",
        "\n",
        "pred = rfc.predict(X_test)\n",
        "rfc_cm = pd.crosstab(pred, y_test)\n",
        "\n",
        "rfc.score(X_train, y_train)"
      ],
      "execution_count": 35,
      "outputs": [
        {
          "output_type": "execute_result",
          "data": {
            "text/plain": [
              "1.0"
            ]
          },
          "metadata": {
            "tags": []
          },
          "execution_count": 35
        }
      ]
    },
    {
      "cell_type": "code",
      "metadata": {
        "id": "E8CCytjaQKNE",
        "colab_type": "code",
        "colab": {
          "base_uri": "https://localhost:8080/",
          "height": 35
        },
        "outputId": "64b63319-017a-4dd1-ae62-a2e0ab21b22c"
      },
      "source": [
        "rfc_acc = []\n",
        "for row in rfc_cm.index.tolist():\n",
        "  if row in rfc_cm.columns.tolist():\n",
        "    rfc_acc.append(rfc_cm.loc[row, row])\n",
        "rfc_acc = np.sum(rfc_acc) / np.sum(rfc_cm.sum())\n",
        "rfc_acc"
      ],
      "execution_count": 36,
      "outputs": [
        {
          "output_type": "execute_result",
          "data": {
            "text/plain": [
              "0.3069016152716593"
            ]
          },
          "metadata": {
            "tags": []
          },
          "execution_count": 36
        }
      ]
    },
    {
      "cell_type": "code",
      "metadata": {
        "id": "v6whxHU7nhY7",
        "colab_type": "code",
        "outputId": "2684fa9a-0354-483a-88a7-f3b7ed585de1",
        "colab": {
          "base_uri": "https://localhost:8080/",
          "height": 35
        }
      },
      "source": [
        "from sklearn.ensemble import GradientBoostingClassifier\n",
        "gbc = GradientBoostingClassifier(n_estimators=100)\n",
        "gbc.fit(X_train, y_train)\n",
        "\n",
        "pred = gbc.predict(X_test)\n",
        "gbc_cm = pd.crosstab(pred, y_test)\n",
        "\n",
        "gbc.score(X_train, y_train)"
      ],
      "execution_count": 37,
      "outputs": [
        {
          "output_type": "execute_result",
          "data": {
            "text/plain": [
              "0.6580604534005038"
            ]
          },
          "metadata": {
            "tags": []
          },
          "execution_count": 37
        }
      ]
    },
    {
      "cell_type": "code",
      "metadata": {
        "id": "W5zUZptDWOBu",
        "colab_type": "code",
        "colab": {
          "base_uri": "https://localhost:8080/",
          "height": 35
        },
        "outputId": "e51a8cb5-f133-4ce3-9fb7-e090eadb9d5e"
      },
      "source": [
        "gbc_acc = []\n",
        "for row in gbc_cm.index.tolist():\n",
        "  if row in gbc_cm.columns.tolist():\n",
        "    gbc_acc.append(gbc_cm.loc[row, row])\n",
        "gbc_acc = np.sum(gbc_acc) / np.sum(gbc_cm.sum())\n",
        "gbc_acc"
      ],
      "execution_count": 38,
      "outputs": [
        {
          "output_type": "execute_result",
          "data": {
            "text/plain": [
              "0.30837004405286345"
            ]
          },
          "metadata": {
            "tags": []
          },
          "execution_count": 38
        }
      ]
    },
    {
      "cell_type": "markdown",
      "metadata": {
        "id": "TOIjsIDlEf8r",
        "colab_type": "text"
      },
      "source": [
        "# Write-up\n",
        "\n",
        "## Corpus\n",
        "\n",
        "My area of interest is in using NLP to help lighten the work load for teacher. With that in mind, I wanted to select a corpus of essays that I could attempt to model a grade for. Since scraping a large set of essays was beyond the scope and timeframe I had for this project, I decided to hone my first phase on a corpus of essays that was already collected, organized, and labelled from an old Kaggle competition. \n",
        "\n",
        "This essay dataset came from the Hewlett Foundation Automated Essay Scoring Competition from 7 years ago. The data had named entities replaced with an anonymous tag (e.g. @LOCATION1) for the purposes of reducing bias in scoring of the essays in the standardized tests. There were 8 sets of essays based on different prompts and from different standardized tests, but I chose to focus on two sets (sets 7 & 8) that had component scores for organization. \n",
        "\n",
        "## Hypothesis\n",
        "\n",
        "From my experience as a writer and a teacher, I hypothesized that the sentences of an essay would follow a pattern of similarity. That is, the first sentence should be most like the second sentence, less like the third sentence, and even less like the fourth sentence. If one were to visualize this as a heatmap of sentence similarity, It should look like a gradual dimming of diagonals with the brightest spots on the index diagonal (1,1; 2,2; 3,3; etc.) because a sentence is exactly similar to itself, but adjacent sentences should be nearly as bright and sentences furthest from each other should be dimmest (having the least correlation). I sought to quantify this hypothesis in a scoring function that I would then use to score essays and feed those scores into my model.\n",
        "\n",
        "One caveat for the generalizability of this model: all of these essays are single paragraph essays writtent by 7th or 10th grade students. To adapt this model for a mutli-paragraph essay, I would need to account for the fact that each paragraph is a self-contained entity where supporting details should be more closely tied to the topic sentence than a closer-by-distance sentence in the next paragraph. And all topic sentences should be closely related to the thesis statement, regardless of their distance.\n",
        "\n",
        "## Scoring Function\n",
        "I knew I wanted to take the similarity between sentences to determine how organized the essay was, but I also knew I need to account for the distance between sentences. For each sentence, I decided to give the sentence a score based on the sum of its similarities to all other sentences divided by the natural log of its distance from those sentences. This ensured that its similarity to more distant sentences counted, but not quite as much as its similarity to nearby sentences. Finally, the essay received an organization score that was the mean of all the sentence-level organization scores. This allowed for the essays not to be penalized based on their length. For future iterations with mutli-paragraph essays, I would like to make a weight based on the average length of paragraphs compared to the total length of the essay."
      ]
    },
    {
      "cell_type": "code",
      "metadata": {
        "id": "moiNO0XfgxMc",
        "colab_type": "code",
        "colab": {
          "base_uri": "https://localhost:8080/",
          "height": 390
        },
        "outputId": "e36607f3-7bec-4877-e139-898d29dba4f0"
      },
      "source": [
        "hypothesis = [[1, 0.85, 0.7, 0.55, 0.4, 0.3], \n",
        "              [0.85, 1, 0.85, 0.7, 0.55, 0.4], \n",
        "              [0.7, 0.85, 1, 0.85, 0.7, 0.55], \n",
        "              [0.55, 0.7, 0.85, 1, 0.85, 0.7],\n",
        "              [0.4, 0.55, 0.7, 0.85, 1, 0.85],\n",
        "              [0.3, 0.4, 0.55, 0.7, 0.85, 1]]\n",
        "plt.figure(figsize=(8,6))\n",
        "sns.heatmap(hypothesis)\n",
        "plt.title('Hypothetical Distribution of Sentence Similarity')\n",
        "plt.show()"
      ],
      "execution_count": 39,
      "outputs": [
        {
          "output_type": "display_data",
          "data": {
            "image/png": "[encoded data removed]",
            "text/plain": [
              "<Figure size 576x432 with 2 Axes>"
            ]
          },
          "metadata": {
            "tags": []
          }
        }
      ]
    },
    {
      "cell_type": "markdown",
      "metadata": {
        "id": "VAFC9KSqioOz",
        "colab_type": "text"
      },
      "source": [
        "## Preparing the Data for Modeling\n",
        "### Decoding the Essays\n",
        "The dataset was encoded in a way that made it difficult to properly decode with the python data science toolkit. Some bytes were left encoded, but I felt that there were not so many as to interfere significantly with the similarity scoring of sentences.\n",
        "\n",
        "### Cleaning the Text\n",
        "I considered running spell check and other automated text cleaning functions to ensure that words were properly spelled and could be matched with their counterpart words in other sentences more readily. The scope and timeframe of this project did not allow for an in-depth exploration into whether those spell check methods would have made a difference, so I have relegated them to future iterations of this project. I have, however, found all instances of  punctuation being immediately followed by a word instead of a space and added in that space to facilitate sentence delineation. \n",
        "\n",
        "### Tokenization\n",
        "There were several models I considered for tokenization of the sentences in the essays before comparison for similarity. For the sake of building the simplest model first, I chose the native attribute `doc.sents` for a doc tokenized by spacy. This attribute has a built-in method `sent.similiarity(text)` that allows for easy extraction of similarity scores between sentences. In future iterations, I intend to compare this sentence tokenization method to comparable methods from gensim's word2vec and doc2vec.\n",
        "\n",
        "### Feature Engineering\n",
        "In order to get features for my supervised learning model, I needed to implement the scoring function that I outlined above. I iterated over the sentences, taking the similarity scores with all the other sentences, divided by the natural logarithm of their distance, and summed those to create a sentence score. Then I took the mean of all sentence scores to create the raw organization score. \n",
        "\n",
        "For the labels, I needed to get the average score of the two raters, but my final labels needed to be integers. Also, essay set 7 and set 8 were graded on two different scales (0-4, 1-6). First, I split the data frame based on the essay set, then I added an offset to the zero-indexed mean score, multiplied by 3, and subtracted another offset to get values between 1 and 10. I multiplied the mean score of the other essay set by 2 to get values between 2 and 12. \n",
        "\n",
        "For the clustering model features, I took the similarity scores of every sentence pair in the essay that was within 6 sentences of each other. The 6 sentence maximum  distance was chosen as an arbitrary stopping point to maintain the relevance of the features and prevent the feature engineering algorithm from running too long. To fill the null features for essays shorter than the longest essay, I imputed the mean. This assumes that if the student were asked to continue writing until they reached the maximum number of sentences in the essay set, they would continue to write in a style as organized as they had to the point they stopped.\n",
        "\n",
        "## Clustering\n",
        "### K-Means\n",
        "K-Means clustering assumes clusters that are isotropic, have similar variance, and roughly equal observations. These assumptions are not met by the sentence similarity data and lead to a poor model that over classifies the dominant classes and neglects the other. This is not the best clustering model to benchmark my supervised models against"
      ]
    },
    {
      "cell_type": "code",
      "metadata": {
        "id": "H3lJK82AZ44E",
        "colab_type": "code",
        "colab": {
          "base_uri": "https://localhost:8080/",
          "height": 513
        },
        "outputId": "60eda658-0c20-4905-9e3c-a1660441e2fc"
      },
      "source": [
        "plt.figure(figsize=(12,8))\n",
        "sns.heatmap(cluster_test_cm)\n",
        "plt.title('KMeans Clusters by Organization Scores')\n",
        "plt.ylabel('Clusters')\n",
        "plt.show()"
      ],
      "execution_count": 40,
      "outputs": [
        {
          "output_type": "display_data",
          "data": {
            "image/png": "[encoded data removed]",
            "text/plain": [
              "<Figure size 864x576 with 2 Axes>"
            ]
          },
          "metadata": {
            "tags": []
          }
        }
      ]
    },
    {
      "cell_type": "markdown",
      "metadata": {
        "id": "En6I3vg-XVub",
        "colab_type": "text"
      },
      "source": [
        "### Mean Shift\n",
        "Mean Shift clusters got granular with the clustering beyond the majority class. It determined that there should be way more clusters than there are possible organization scores, but all of the clusters except one were relatively empty. This was not a good choice for a clustering model."
      ]
    },
    {
      "cell_type": "code",
      "metadata": {
        "id": "cElI1No2qLnD",
        "colab_type": "code",
        "colab": {
          "base_uri": "https://localhost:8080/",
          "height": 513
        },
        "outputId": "afa0cea3-58c6-41f8-ed53-c060afbaade0"
      },
      "source": [
        "ms_cm = pd.crosstab(ms.labels_, cluster_labels_train)\n",
        "plt.figure(figsize=(12,8))\n",
        "sns.heatmap(ms_cm)\n",
        "plt.title('Mean Shift Clusters by Organization Scores')\n",
        "plt.ylabel('Clusters')\n",
        "plt.show()"
      ],
      "execution_count": 24,
      "outputs": [
        {
          "output_type": "display_data",
          "data": {
            "image/png": "[encoded data removed]",
            "text/plain": [
              "<Figure size 864x576 with 2 Axes>"
            ]
          },
          "metadata": {
            "tags": []
          }
        }
      ]
    },
    {
      "cell_type": "markdown",
      "metadata": {
        "id": "mbgl1C3CXjco",
        "colab_type": "text"
      },
      "source": [
        "### Spectral Clustering\n",
        "\n",
        "Spectral Clustering performed almost as terribly as Mean Shift clustering, except for the fact that I told it how many clusters to look for. Both models were able to get near 30% accuracy just by predicting the majority class, but they were not in the ballpark on detecting any of the other classes. Despite not meeting the model assumptions, K-Means was still the best performing clustering model for classes other then the dominant class."
      ]
    },
    {
      "cell_type": "code",
      "metadata": {
        "id": "9vp7HNt1qOD8",
        "colab_type": "code",
        "colab": {
          "base_uri": "https://localhost:8080/",
          "height": 513
        },
        "outputId": "115e3c3b-0100-4f7d-99f7-4d88f725c743"
      },
      "source": [
        "sc_cm = pd.crosstab(sc.labels_, cluster_labels_train)\n",
        "plt.figure(figsize=(12,8))\n",
        "sns.heatmap(sc_cm)\n",
        "plt.title('Spectral Clusters by Organization Scores')\n",
        "plt.ylabel('Clusters')\n",
        "plt.show()"
      ],
      "execution_count": 29,
      "outputs": [
        {
          "output_type": "display_data",
          "data": {
            "image/png": "[encoded data removed]",
            "text/plain": [
              "<Figure size 864x576 with 2 Axes>"
            ]
          },
          "metadata": {
            "tags": []
          }
        }
      ]
    },
    {
      "cell_type": "markdown",
      "metadata": {
        "id": "r6wuoFnyXofK",
        "colab_type": "text"
      },
      "source": [
        "## Supervised Models\n",
        "###Logisitic Regression\n",
        "The multinomial logistic regression model assumes low multi-collinearity and feature values that map one-to-one on labels. While the first assumption is met by the presence of only one feature, the second assumption is demonstrably broken as visualized in the scatter plot below . As shown in the scatter plot, the majority of essays are scored 6-8. The heatmap below shows that the logistic regression model gets most of its 39% accuracy from predicting the two majority classes. It makes an attempt at predicting the score 4, which I would interpret as the most dominant class to be tightly clustered on a range of lower scores. This would not be my model of choice under these circumstances."
      ]
    },
    {
      "cell_type": "code",
      "metadata": {
        "id": "N8uqune7Ix8K",
        "colab_type": "code",
        "outputId": "7afe606b-96c3-432e-897c-8be024c8003c",
        "colab": {
          "base_uri": "https://localhost:8080/",
          "height": 338
        }
      },
      "source": [
        "sns.set_style('darkgrid')\n",
        "plt.figure(figsize=(10,5))\n",
        "sns.scatterplot(x='org_score', y='raw_score', data=score_df)\n",
        "plt.show()\n"
      ],
      "execution_count": 41,
      "outputs": [
        {
          "output_type": "display_data",
          "data": {
            "image/png": "[encoded data removed]",
            "text/plain": [
              "<Figure size 720x360 with 1 Axes>"
            ]
          },
          "metadata": {
            "tags": []
          }
        }
      ]
    },
    {
      "cell_type": "code",
      "metadata": {
        "id": "ZmYgyNf1faP9",
        "colab_type": "code",
        "outputId": "cc0803f1-767e-415d-eecb-f2db5d9ae130",
        "colab": {
          "base_uri": "https://localhost:8080/",
          "height": 513
        }
      },
      "source": [
        "plt.figure(figsize=(12,8))\n",
        "sns.heatmap(lgr_cm)\n",
        "plt.title('Logistic Regression Predictions by Organization Scores')\n",
        "plt.ylabel('Predicted Scores')\n",
        "plt.show()"
      ],
      "execution_count": 42,
      "outputs": [
        {
          "output_type": "display_data",
          "data": {
            "image/png": "[encoded data removed]",
            "text/plain": [
              "<Figure size 864x576 with 2 Axes>"
            ]
          },
          "metadata": {
            "tags": []
          }
        }
      ]
    },
    {
      "cell_type": "markdown",
      "metadata": {
        "id": "Pw8Fq8pncgFe",
        "colab_type": "text"
      },
      "source": [
        "### Random Forest Classifier\n",
        "The Random Forest model severely overfit the training data (99+%), but achieved just 29% accuracy on the test set. Of the supervised learning classifiers, though, it would be my model of choice under the current circumstances. This model tried to classify some of the minority classes. The heatmap below resembles the heatmap for the K-Means clustering model, but more disperse. I believe that with a more finely tuned scoring function and some more features derived from sound reasoning, the random forest classifier would be able to outperform the clustering model. "
      ]
    },
    {
      "cell_type": "code",
      "metadata": {
        "id": "-gjybc5GliYi",
        "colab_type": "code",
        "outputId": "14562f09-2711-448b-c64a-bbbf929a7fbc",
        "colab": {
          "base_uri": "https://localhost:8080/",
          "height": 513
        }
      },
      "source": [
        "plt.figure(figsize=(12,8))\n",
        "sns.heatmap(rfc_cm)\n",
        "plt.title('Random Forest Predictions by Organization Scores')\n",
        "plt.ylabel('Predicted Scores')\n",
        "plt.show()"
      ],
      "execution_count": 43,
      "outputs": [
        {
          "output_type": "display_data",
          "data": {
            "image/png": "[encoded data removed]",
            "text/plain": [
              "<Figure size 864x576 with 2 Axes>"
            ]
          },
          "metadata": {
            "tags": []
          }
        }
      ]
    },
    {
      "cell_type": "markdown",
      "metadata": {
        "id": "pV6ErBL-fzE1",
        "colab_type": "text"
      },
      "source": [
        "### Gradient Boosting Classifier\n",
        "The Gradient Boosting model did not overfit as much as the Random Forest model, and it performed better in test accuracy, but it did so by sacrificing minority classes for the majority classes. I will continue compare it to the other classifiers as I iterate over this project with new features."
      ]
    },
    {
      "cell_type": "code",
      "metadata": {
        "id": "emxAd_3GUnFF",
        "colab_type": "code",
        "colab": {
          "base_uri": "https://localhost:8080/",
          "height": 513
        },
        "outputId": "7fb38f36-2291-4f4f-fd31-9b15728f9956"
      },
      "source": [
        "plt.figure(figsize=(12,8))\n",
        "sns.heatmap(gbc_cm)\n",
        "plt.title('Gradient Boosting Predictions by Organization Scores')\n",
        "plt.ylabel('Predicted Scores')\n",
        "plt.show()"
      ],
      "execution_count": 44,
      "outputs": [
        {
          "output_type": "display_data",
          "data": {
            "image/png": "[encoded data removed]",
            "text/plain": [
              "<Figure size 864x576 with 2 Axes>"
            ]
          },
          "metadata": {
            "tags": []
          }
        }
      ]
    },
    {
      "cell_type": "markdown",
      "metadata": {
        "id": "1Y8AUtwlje3D",
        "colab_type": "text"
      },
      "source": [
        "## Conclusion and Next Steps\n",
        "\n",
        "The first iteration of the organization grading model did not meet my expectations. However, there is much room for improvement within the project.\n",
        "\n",
        "### Text Data\n",
        "I could improve on the project by collecting more labelled data and cleaning the data that I have. The current data needs to be explored to see what other errors are hiding in the essays aside from the ones I have seen in the head and tails of the data frames (undecoded bytes, rectangle where apostrophes should be, spaces in the middle of words.) I intend to use different spell checkers that are available to find words that match known misspellings in the vocabulary and try permutations of surrounding characters for words that do not exist within the vocabulary. \n",
        "\n",
        "### Features\n",
        "\n",
        "#### A New Scoring Function\n",
        "The scoring function that I created changed a few times during the course of this project and will likely change many more before I am satisfied with its performance and the reasoning behind it. The first, simple tweak will be comparing the performance of the function if sentence similarities are divided by the distance instead of the natural logarithm of the distance. Still, I want there to be more features within the feature set and will continue to think about whether one number for the essay organization score is sufficient or whether there should be more scores included within the set.\n",
        "\n",
        "#### Other Text Features\n",
        "I always intended for the next iteration of this project to include a comparison of different models for tokenizing sentences. Some of those models will include reducing the sentence to its lemmas before creating the sentence vector. I want to explore reasonable ways in which parts of speech, dependencies, and named entities could play a role in the feature set. Named entities will require some extra legwork since all named entities have been anonymized in the essay sets I was using up to this point. Finally, some text summarization can be used to determine a thesis for the essay and a topic sentence for each paragraph, to begin to determine how closely linked all sentences in a paragraph are to their topic sentence and how well the topic sentences relate to the thesis. \n",
        "\n",
        "### Models\n",
        "I will do research on the models that have the best performance for this type of problem and the range of parameters that work best. Then, I will perform GridSearchCV to determine the best  model with the best parameters. I will also look into pretrained neural networks that already have word embeddings to use for transfer learning on the featureset. "
      ]
    },
    {
      "cell_type": "code",
      "metadata": {
        "id": "CrCyQaXknJK4",
        "colab_type": "code",
        "colab": {}
      },
      "source": [
        ""
      ],
      "execution_count": 0,
      "outputs": []
    }
  ]
}
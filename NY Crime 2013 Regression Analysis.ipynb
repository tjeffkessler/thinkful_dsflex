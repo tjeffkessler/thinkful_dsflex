{
 "cells": [
  {
   "cell_type": "code",
   "execution_count": 1,
   "metadata": {},
   "outputs": [],
   "source": [
    "import numpy as np\n",
    "import pandas as pd\n",
    "import matplotlib.pyplot as plt\n",
    "import sklearn\n",
    "import seaborn as sns\n",
    "%matplotlib inline"
   ]
  },
  {
   "cell_type": "code",
   "execution_count": 2,
   "metadata": {},
   "outputs": [
    {
     "data": {
      "text/plain": [
       "Index(['City', 'Population', 'Violent\\ncrime',\n",
       "       'Murder and\\nnonnegligent\\nmanslaughter',\n",
       "       'Rape\\n(revised\\ndefinition)1', 'Rape\\n(legacy\\ndefinition)2',\n",
       "       'Robbery', 'Aggravated\\nassault', 'Property\\ncrime', 'Burglary',\n",
       "       'Larceny-\\ntheft', 'Motor\\nvehicle\\ntheft', 'Arson3'],\n",
       "      dtype='object')"
      ]
     },
     "execution_count": 2,
     "metadata": {},
     "output_type": "execute_result"
    }
   ],
   "source": [
    "# Read the dataset into a data frame\n",
    "df = pd.read_excel('nyc_crime2013.xls', skiprows=4)\n",
    "df.columns"
   ]
  },
  {
   "cell_type": "code",
   "execution_count": 3,
   "metadata": {},
   "outputs": [
    {
     "data": {
      "text/html": [
       "<div>\n",
       "<style scoped>\n",
       "    .dataframe tbody tr th:only-of-type {\n",
       "        vertical-align: middle;\n",
       "    }\n",
       "\n",
       "    .dataframe tbody tr th {\n",
       "        vertical-align: top;\n",
       "    }\n",
       "\n",
       "    .dataframe thead th {\n",
       "        text-align: right;\n",
       "    }\n",
       "</style>\n",
       "<table border=\"1\" class=\"dataframe\">\n",
       "  <thead>\n",
       "    <tr style=\"text-align: right;\">\n",
       "      <th></th>\n",
       "      <th>City</th>\n",
       "      <th>Population</th>\n",
       "      <th>Murder and\n",
       "nonnegligent\n",
       "manslaughter</th>\n",
       "      <th>Robbery</th>\n",
       "      <th>Property\n",
       "crime</th>\n",
       "    </tr>\n",
       "  </thead>\n",
       "  <tbody>\n",
       "    <tr>\n",
       "      <th>0</th>\n",
       "      <td>Adams Village</td>\n",
       "      <td>1861.0</td>\n",
       "      <td>0.0</td>\n",
       "      <td>0.0</td>\n",
       "      <td>12.0</td>\n",
       "    </tr>\n",
       "    <tr>\n",
       "      <th>1</th>\n",
       "      <td>Addison Town and Village</td>\n",
       "      <td>2577.0</td>\n",
       "      <td>0.0</td>\n",
       "      <td>0.0</td>\n",
       "      <td>24.0</td>\n",
       "    </tr>\n",
       "    <tr>\n",
       "      <th>2</th>\n",
       "      <td>Akron Village</td>\n",
       "      <td>2846.0</td>\n",
       "      <td>0.0</td>\n",
       "      <td>0.0</td>\n",
       "      <td>16.0</td>\n",
       "    </tr>\n",
       "    <tr>\n",
       "      <th>3</th>\n",
       "      <td>Albany</td>\n",
       "      <td>97956.0</td>\n",
       "      <td>8.0</td>\n",
       "      <td>227.0</td>\n",
       "      <td>4090.0</td>\n",
       "    </tr>\n",
       "    <tr>\n",
       "      <th>4</th>\n",
       "      <td>Albion Village</td>\n",
       "      <td>6388.0</td>\n",
       "      <td>0.0</td>\n",
       "      <td>4.0</td>\n",
       "      <td>223.0</td>\n",
       "    </tr>\n",
       "  </tbody>\n",
       "</table>\n",
       "</div>"
      ],
      "text/plain": [
       "                       City  Population  \\\n",
       "0             Adams Village      1861.0   \n",
       "1  Addison Town and Village      2577.0   \n",
       "2             Akron Village      2846.0   \n",
       "3                    Albany     97956.0   \n",
       "4            Albion Village      6388.0   \n",
       "\n",
       "   Murder and\\nnonnegligent\\nmanslaughter  Robbery  Property\\ncrime  \n",
       "0                                     0.0      0.0             12.0  \n",
       "1                                     0.0      0.0             24.0  \n",
       "2                                     0.0      0.0             16.0  \n",
       "3                                     8.0    227.0           4090.0  \n",
       "4                                     0.0      4.0            223.0  "
      ]
     },
     "execution_count": 3,
     "metadata": {},
     "output_type": "execute_result"
    }
   ],
   "source": [
    "# Create a data frame with only the features of interest\n",
    "pc_df = df[['City', 'Population', 'Murder and\\nnonnegligent\\nmanslaughter', 'Robbery', 'Property\\ncrime']].copy()\n",
    "murder = 'Murder and\\nnonnegligent\\nmanslaughter'\n",
    "p_crime = 'Property\\ncrime'\n",
    "pc_df.head()"
   ]
  },
  {
   "cell_type": "code",
   "execution_count": 4,
   "metadata": {},
   "outputs": [
    {
     "data": {
      "text/plain": [
       "City                                      0\n",
       "Population                                3\n",
       "Murder and\\nnonnegligent\\nmanslaughter    3\n",
       "Robbery                                   3\n",
       "Property\\ncrime                           3\n",
       "dtype: int64"
      ]
     },
     "execution_count": 4,
     "metadata": {},
     "output_type": "execute_result"
    }
   ],
   "source": [
    "# Determine if there are null values\n",
    "pc_df.isna().sum()"
   ]
  },
  {
   "cell_type": "code",
   "execution_count": 5,
   "metadata": {},
   "outputs": [
    {
     "data": {
      "text/html": [
       "<div>\n",
       "<style scoped>\n",
       "    .dataframe tbody tr th:only-of-type {\n",
       "        vertical-align: middle;\n",
       "    }\n",
       "\n",
       "    .dataframe tbody tr th {\n",
       "        vertical-align: top;\n",
       "    }\n",
       "\n",
       "    .dataframe thead th {\n",
       "        text-align: right;\n",
       "    }\n",
       "</style>\n",
       "<table border=\"1\" class=\"dataframe\">\n",
       "  <thead>\n",
       "    <tr style=\"text-align: right;\">\n",
       "      <th></th>\n",
       "      <th>Population</th>\n",
       "      <th>Murder and\n",
       "nonnegligent\n",
       "manslaughter</th>\n",
       "      <th>Robbery</th>\n",
       "      <th>Property\n",
       "crime</th>\n",
       "    </tr>\n",
       "  </thead>\n",
       "  <tbody>\n",
       "    <tr>\n",
       "      <th>count</th>\n",
       "      <td>3.480000e+02</td>\n",
       "      <td>348.000000</td>\n",
       "      <td>348.000000</td>\n",
       "      <td>348.000000</td>\n",
       "    </tr>\n",
       "    <tr>\n",
       "      <th>mean</th>\n",
       "      <td>4.003763e+04</td>\n",
       "      <td>1.566092</td>\n",
       "      <td>72.902299</td>\n",
       "      <td>792.606322</td>\n",
       "    </tr>\n",
       "    <tr>\n",
       "      <th>std</th>\n",
       "      <td>4.500374e+05</td>\n",
       "      <td>18.303673</td>\n",
       "      <td>1031.032873</td>\n",
       "      <td>7659.724746</td>\n",
       "    </tr>\n",
       "    <tr>\n",
       "      <th>min</th>\n",
       "      <td>5.260000e+02</td>\n",
       "      <td>0.000000</td>\n",
       "      <td>0.000000</td>\n",
       "      <td>0.000000</td>\n",
       "    </tr>\n",
       "    <tr>\n",
       "      <th>25%</th>\n",
       "      <td>3.003000e+03</td>\n",
       "      <td>0.000000</td>\n",
       "      <td>0.000000</td>\n",
       "      <td>40.500000</td>\n",
       "    </tr>\n",
       "    <tr>\n",
       "      <th>50%</th>\n",
       "      <td>7.233500e+03</td>\n",
       "      <td>0.000000</td>\n",
       "      <td>1.000000</td>\n",
       "      <td>112.500000</td>\n",
       "    </tr>\n",
       "    <tr>\n",
       "      <th>75%</th>\n",
       "      <td>1.842750e+04</td>\n",
       "      <td>0.000000</td>\n",
       "      <td>5.000000</td>\n",
       "      <td>341.000000</td>\n",
       "    </tr>\n",
       "    <tr>\n",
       "      <th>max</th>\n",
       "      <td>8.396126e+06</td>\n",
       "      <td>335.000000</td>\n",
       "      <td>19170.000000</td>\n",
       "      <td>141971.000000</td>\n",
       "    </tr>\n",
       "  </tbody>\n",
       "</table>\n",
       "</div>"
      ],
      "text/plain": [
       "         Population  Murder and\\nnonnegligent\\nmanslaughter       Robbery  \\\n",
       "count  3.480000e+02                              348.000000    348.000000   \n",
       "mean   4.003763e+04                                1.566092     72.902299   \n",
       "std    4.500374e+05                               18.303673   1031.032873   \n",
       "min    5.260000e+02                                0.000000      0.000000   \n",
       "25%    3.003000e+03                                0.000000      0.000000   \n",
       "50%    7.233500e+03                                0.000000      1.000000   \n",
       "75%    1.842750e+04                                0.000000      5.000000   \n",
       "max    8.396126e+06                              335.000000  19170.000000   \n",
       "\n",
       "       Property\\ncrime  \n",
       "count       348.000000  \n",
       "mean        792.606322  \n",
       "std        7659.724746  \n",
       "min           0.000000  \n",
       "25%          40.500000  \n",
       "50%         112.500000  \n",
       "75%         341.000000  \n",
       "max      141971.000000  "
      ]
     },
     "execution_count": 5,
     "metadata": {},
     "output_type": "execute_result"
    }
   ],
   "source": [
    "# Drop the information rows at the end of the dataset\n",
    "pc_df.dropna(how='any', inplace=True)\n",
    "pc_df.describe()"
   ]
  },
  {
   "cell_type": "code",
   "execution_count": 6,
   "metadata": {},
   "outputs": [
    {
     "data": {
      "text/html": [
       "<div>\n",
       "<style scoped>\n",
       "    .dataframe tbody tr th:only-of-type {\n",
       "        vertical-align: middle;\n",
       "    }\n",
       "\n",
       "    .dataframe tbody tr th {\n",
       "        vertical-align: top;\n",
       "    }\n",
       "\n",
       "    .dataframe thead th {\n",
       "        text-align: right;\n",
       "    }\n",
       "</style>\n",
       "<table border=\"1\" class=\"dataframe\">\n",
       "  <thead>\n",
       "    <tr style=\"text-align: right;\">\n",
       "      <th></th>\n",
       "      <th>City</th>\n",
       "      <th>Population</th>\n",
       "      <th>Murder and\n",
       "nonnegligent\n",
       "manslaughter</th>\n",
       "      <th>Robbery</th>\n",
       "      <th>Property\n",
       "crime</th>\n",
       "    </tr>\n",
       "  </thead>\n",
       "  <tbody>\n",
       "    <tr>\n",
       "      <th>216</th>\n",
       "      <td>New York</td>\n",
       "      <td>8396126.0</td>\n",
       "      <td>335.0</td>\n",
       "      <td>19170.0</td>\n",
       "      <td>141971.0</td>\n",
       "    </tr>\n",
       "  </tbody>\n",
       "</table>\n",
       "</div>"
      ],
      "text/plain": [
       "         City  Population  Murder and\\nnonnegligent\\nmanslaughter  Robbery  \\\n",
       "216  New York   8396126.0                                   335.0  19170.0   \n",
       "\n",
       "     Property\\ncrime  \n",
       "216         141971.0  "
      ]
     },
     "execution_count": 6,
     "metadata": {},
     "output_type": "execute_result"
    }
   ],
   "source": [
    "# Find the amomalous robbery cities\n",
    "robbery_anomaly = pc_df['Robbery'].mean() + (2 * np.std(pc_df['Robbery'])) \n",
    "pc_df.loc[pc_df['Robbery'] > robbery_anomaly]"
   ]
  },
  {
   "cell_type": "code",
   "execution_count": 7,
   "metadata": {},
   "outputs": [],
   "source": [
    "# Find the anomalous murder cities\n",
    "m_anomaly = pc_df[murder].mean() + (2 * np.std(pc_df[murder])) \n",
    "big_cities = pc_df.loc[pc_df[murder] > m_anomaly]"
   ]
  },
  {
   "cell_type": "code",
   "execution_count": 8,
   "metadata": {},
   "outputs": [
    {
     "data": {
      "text/html": [
       "<div>\n",
       "<style scoped>\n",
       "    .dataframe tbody tr th:only-of-type {\n",
       "        vertical-align: middle;\n",
       "    }\n",
       "\n",
       "    .dataframe tbody tr th {\n",
       "        vertical-align: top;\n",
       "    }\n",
       "\n",
       "    .dataframe thead th {\n",
       "        text-align: right;\n",
       "    }\n",
       "</style>\n",
       "<table border=\"1\" class=\"dataframe\">\n",
       "  <thead>\n",
       "    <tr style=\"text-align: right;\">\n",
       "      <th></th>\n",
       "      <th>Population</th>\n",
       "      <th>Murder and\n",
       "nonnegligent\n",
       "manslaughter</th>\n",
       "      <th>Robbery</th>\n",
       "      <th>Property\n",
       "crime</th>\n",
       "    </tr>\n",
       "  </thead>\n",
       "  <tbody>\n",
       "    <tr>\n",
       "      <th>count</th>\n",
       "      <td>345.000000</td>\n",
       "      <td>345.000000</td>\n",
       "      <td>345.000000</td>\n",
       "      <td>345.000000</td>\n",
       "    </tr>\n",
       "    <tr>\n",
       "      <th>mean</th>\n",
       "      <td>14688.750725</td>\n",
       "      <td>0.350725</td>\n",
       "      <td>11.478261</td>\n",
       "      <td>322.649275</td>\n",
       "    </tr>\n",
       "    <tr>\n",
       "      <th>std</th>\n",
       "      <td>21318.571420</td>\n",
       "      <td>1.587160</td>\n",
       "      <td>41.615561</td>\n",
       "      <td>612.050221</td>\n",
       "    </tr>\n",
       "    <tr>\n",
       "      <th>min</th>\n",
       "      <td>526.000000</td>\n",
       "      <td>0.000000</td>\n",
       "      <td>0.000000</td>\n",
       "      <td>0.000000</td>\n",
       "    </tr>\n",
       "    <tr>\n",
       "      <th>25%</th>\n",
       "      <td>2985.000000</td>\n",
       "      <td>0.000000</td>\n",
       "      <td>0.000000</td>\n",
       "      <td>39.000000</td>\n",
       "    </tr>\n",
       "    <tr>\n",
       "      <th>50%</th>\n",
       "      <td>7112.000000</td>\n",
       "      <td>0.000000</td>\n",
       "      <td>1.000000</td>\n",
       "      <td>112.000000</td>\n",
       "    </tr>\n",
       "    <tr>\n",
       "      <th>75%</th>\n",
       "      <td>17965.000000</td>\n",
       "      <td>0.000000</td>\n",
       "      <td>5.000000</td>\n",
       "      <td>337.000000</td>\n",
       "    </tr>\n",
       "    <tr>\n",
       "      <th>max</th>\n",
       "      <td>199134.000000</td>\n",
       "      <td>21.000000</td>\n",
       "      <td>400.000000</td>\n",
       "      <td>6473.000000</td>\n",
       "    </tr>\n",
       "  </tbody>\n",
       "</table>\n",
       "</div>"
      ],
      "text/plain": [
       "          Population  Murder and\\nnonnegligent\\nmanslaughter     Robbery  \\\n",
       "count     345.000000                              345.000000  345.000000   \n",
       "mean    14688.750725                                0.350725   11.478261   \n",
       "std     21318.571420                                1.587160   41.615561   \n",
       "min       526.000000                                0.000000    0.000000   \n",
       "25%      2985.000000                                0.000000    0.000000   \n",
       "50%      7112.000000                                0.000000    1.000000   \n",
       "75%     17965.000000                                0.000000    5.000000   \n",
       "max    199134.000000                               21.000000  400.000000   \n",
       "\n",
       "       Property\\ncrime  \n",
       "count       345.000000  \n",
       "mean        322.649275  \n",
       "std         612.050221  \n",
       "min           0.000000  \n",
       "25%          39.000000  \n",
       "50%         112.000000  \n",
       "75%         337.000000  \n",
       "max        6473.000000  "
      ]
     },
     "execution_count": 8,
     "metadata": {},
     "output_type": "execute_result"
    }
   ],
   "source": [
    "# Drop the anomalous big cities because of the outsized effect they would have on the model\n",
    "# These big cities might be better suited with a comparison of other large urban areas across the nation\n",
    "pc_df.drop(big_cities.index, inplace=True)\n",
    "pc_df.describe()"
   ]
  },
  {
   "cell_type": "code",
   "execution_count": 9,
   "metadata": {},
   "outputs": [
    {
     "data": {
      "image/png": "[encoded data removed]",
      "text/plain": [
       "<Figure size 504x1512 with 3 Axes>"
      ]
     },
     "metadata": {
      "needs_background": "light"
     },
     "output_type": "display_data"
    }
   ],
   "source": [
    "# Check the distribution  of Murder\n",
    "plt.figure(figsize=(7, 21))\n",
    "\n",
    "plt.subplot(3,1,1)\n",
    "sns.set()\n",
    "sns.distplot(pc_df[murder])\n",
    "plt.title('Distribution of Murders')\n",
    "\n",
    "# Check the distribution of Robbery\n",
    "plt.subplot(3,1,2)\n",
    "sns.distplot(pc_df['Robbery'])\n",
    "plt.title('Distribution of Robberies')\n",
    "\n",
    "# Check the distribution of property crime\n",
    "plt.subplot(3,1,3)\n",
    "sns.distplot(pc_df[p_crime])\n",
    "plt.title('Distribution of Property Crimes')\n",
    "plt.show()"
   ]
  },
  {
   "cell_type": "code",
   "execution_count": null,
   "metadata": {},
   "outputs": [],
   "source": []
  },
  {
   "cell_type": "code",
   "execution_count": 10,
   "metadata": {},
   "outputs": [
    {
     "data": {
      "image/png": "[encoded data removed]",
      "text/plain": [
       "<Figure size 504x1512 with 3 Axes>"
      ]
     },
     "metadata": {},
     "output_type": "display_data"
    }
   ],
   "source": [
    "plt.figure(figsize=(7, 21))\n",
    "\n",
    "plt.subplot(3,1,1)\n",
    "sns.scatterplot(pc_df[p_crime], pc_df['Population'])\n",
    "plt.title('Property Crime by Population')\n",
    "\n",
    "plt.subplot(3,1,2)\n",
    "sns.scatterplot(pc_df[p_crime], pc_df[murder])\n",
    "plt.title('Property Crime by Murders')\n",
    "\n",
    "plt.subplot(3,1,3)\n",
    "sns.scatterplot(pc_df[p_crime], pc_df['Robbery'])\n",
    "plt.title('Property Crime by Robberies')\n",
    "plt.show()"
   ]
  },
  {
   "cell_type": "code",
   "execution_count": 11,
   "metadata": {},
   "outputs": [
    {
     "data": {
      "text/html": [
       "<div>\n",
       "<style scoped>\n",
       "    .dataframe tbody tr th:only-of-type {\n",
       "        vertical-align: middle;\n",
       "    }\n",
       "\n",
       "    .dataframe tbody tr th {\n",
       "        vertical-align: top;\n",
       "    }\n",
       "\n",
       "    .dataframe thead th {\n",
       "        text-align: right;\n",
       "    }\n",
       "</style>\n",
       "<table border=\"1\" class=\"dataframe\">\n",
       "  <thead>\n",
       "    <tr style=\"text-align: right;\">\n",
       "      <th></th>\n",
       "      <th>City</th>\n",
       "      <th>Population</th>\n",
       "      <th>Murder and\n",
       "nonnegligent\n",
       "manslaughter</th>\n",
       "      <th>Robbery</th>\n",
       "      <th>Property\n",
       "crime</th>\n",
       "    </tr>\n",
       "  </thead>\n",
       "  <tbody>\n",
       "    <tr>\n",
       "      <th>0</th>\n",
       "      <td>Adams Village</td>\n",
       "      <td>1861.0</td>\n",
       "      <td>0</td>\n",
       "      <td>0.000000</td>\n",
       "      <td>12.0</td>\n",
       "    </tr>\n",
       "    <tr>\n",
       "      <th>1</th>\n",
       "      <td>Addison Town and Village</td>\n",
       "      <td>2577.0</td>\n",
       "      <td>0</td>\n",
       "      <td>0.000000</td>\n",
       "      <td>24.0</td>\n",
       "    </tr>\n",
       "    <tr>\n",
       "      <th>2</th>\n",
       "      <td>Akron Village</td>\n",
       "      <td>2846.0</td>\n",
       "      <td>0</td>\n",
       "      <td>0.000000</td>\n",
       "      <td>16.0</td>\n",
       "    </tr>\n",
       "    <tr>\n",
       "      <th>3</th>\n",
       "      <td>Albany</td>\n",
       "      <td>97956.0</td>\n",
       "      <td>1</td>\n",
       "      <td>15.066519</td>\n",
       "      <td>4090.0</td>\n",
       "    </tr>\n",
       "    <tr>\n",
       "      <th>4</th>\n",
       "      <td>Albion Village</td>\n",
       "      <td>6388.0</td>\n",
       "      <td>0</td>\n",
       "      <td>2.000000</td>\n",
       "      <td>223.0</td>\n",
       "    </tr>\n",
       "  </tbody>\n",
       "</table>\n",
       "</div>"
      ],
      "text/plain": [
       "                       City  Population  \\\n",
       "0             Adams Village      1861.0   \n",
       "1  Addison Town and Village      2577.0   \n",
       "2             Akron Village      2846.0   \n",
       "3                    Albany     97956.0   \n",
       "4            Albion Village      6388.0   \n",
       "\n",
       "   Murder and\\nnonnegligent\\nmanslaughter    Robbery  Property\\ncrime  \n",
       "0                                       0   0.000000             12.0  \n",
       "1                                       0   0.000000             24.0  \n",
       "2                                       0   0.000000             16.0  \n",
       "3                                       1  15.066519           4090.0  \n",
       "4                                       0   2.000000            223.0  "
      ]
     },
     "execution_count": 11,
     "metadata": {},
     "output_type": "execute_result"
    }
   ],
   "source": [
    "#Create features for population squared and for the categorical versions murder and robbery\n",
    "pc_df[murder] = pc_df[murder].apply(lambda x:  1 if x>0 else 0)\n",
    "pc_df['Robbery'] = np.sqrt(pc_df['Robbery'])\n",
    "\n",
    "pc_df.head()"
   ]
  },
  {
   "cell_type": "code",
   "execution_count": 12,
   "metadata": {},
   "outputs": [
    {
     "name": "stdout",
     "output_type": "stream",
     "text": [
      "\n",
      "Coefficients: \n",
      " [-3.23536749e+01  1.16339066e-02  1.14549404e+02]\n",
      "\n",
      "Intercept: \n",
      " -49.38411561123564\n",
      "\n",
      "R-squared:\n",
      "0.7921855181811697\n"
     ]
    }
   ],
   "source": [
    "# Build regression model \n",
    "from sklearn.linear_model import LinearRegression\n",
    "X = pc_df[[murder, 'Population', 'Robbery']]\n",
    "Y = pc_df[p_crime]\n",
    "regr = LinearRegression().fit(X, Y)\n",
    "\n",
    "print('\\nCoefficients: \\n', regr.coef_)\n",
    "print('\\nIntercept: \\n', regr.intercept_)\n",
    "print('\\nR-squared:')\n",
    "print(regr.score(X, Y))"
   ]
  },
  {
   "cell_type": "code",
   "execution_count": 13,
   "metadata": {},
   "outputs": [
    {
     "data": {
      "text/plain": [
       "array([ 152875.03252262, 2282703.95811766,  106197.7732003 ])"
      ]
     },
     "execution_count": 13,
     "metadata": {},
     "output_type": "execute_result"
    }
   ],
   "source": [
    "pred = regr.predict(big_cities[[murder, 'Population', 'Robbery']])\n",
    "pred"
   ]
  },
  {
   "cell_type": "code",
   "execution_count": 14,
   "metadata": {},
   "outputs": [
    {
     "data": {
      "text/plain": [
       "35      12491.0\n",
       "216    141971.0\n",
       "272     10051.0\n",
       "Name: Property\\ncrime, dtype: float64"
      ]
     },
     "execution_count": 14,
     "metadata": {},
     "output_type": "execute_result"
    }
   ],
   "source": [
    "target = big_cities[p_crime]\n",
    "target"
   ]
  },
  {
   "cell_type": "code",
   "execution_count": 15,
   "metadata": {},
   "outputs": [
    {
     "data": {
      "text/plain": [
       "35    -1.403840e+05\n",
       "216   -2.140733e+06\n",
       "272   -9.614677e+04\n",
       "Name: Property\\ncrime, dtype: float64"
      ]
     },
     "execution_count": 15,
     "metadata": {},
     "output_type": "execute_result"
    }
   ],
   "source": [
    "error = target - pred\n",
    "error"
   ]
  },
  {
   "cell_type": "markdown",
   "metadata": {},
   "source": [
    "##  Feature Engineering and Model Performance\n",
    "The features requested in the previous exercises included some outliers. I found the outliers by taking anything greater than 2 standard deviations from the mean in murders and robberies and dropped them. The model would lose predictive capability for smaller cities if the dense urban centers were included in the data. The relationship between each of the features and the outcome variable was not linear, so I performed some transformations. I looked at the plots and applied a square root to the to the robberies to get closer to linear, but I did not see any way of getting the murders relationship to property crime close to linear, so I used the suggestion of one-hot encoding them. \n",
    "\n",
    "The R-Squared scored seemed to be relatively high, but the predictions were way off. This could be attributed to the fact that there is not a linear relationship between the way crime grows from small cities to large cities. There is also a factor of density missing, which I think would help explain the property crime even better. Socio-economic distribution in the city could also be more predictive of property crime.\n",
    "\n",
    "Using just the data set given, the model is more closely predictive when set up per the previous exercise (murder and robbery one-hot encoded and population squared added as a feature). It might be worth trimming the tails even a bit more than just those greater than 2 standard deviations from the mean. I could also try normalizing the outcome variable."
   ]
  },
  {
   "cell_type": "code",
   "execution_count": null,
   "metadata": {},
   "outputs": [],
   "source": []
  }
 ],
 "metadata": {
  "kernelspec": {
   "display_name": "Python 3",
   "language": "python",
   "name": "python3"
  },
  "language_info": {
   "codemirror_mode": {
    "name": "ipython",
    "version": 3
   },
   "file_extension": ".py",
   "mimetype": "text/x-python",
   "name": "python",
   "nbconvert_exporter": "python",
   "pygments_lexer": "ipython3",
   "version": "3.6.8"
  }
 },
 "nbformat": 4,
 "nbformat_minor": 2
}
